{
  "nbformat": 4,
  "nbformat_minor": 0,
  "metadata": {
    "colab": {
      "name": "to determine the gender of a person.ipynb",
      "provenance": [],
      "collapsed_sections": [
        "TTXDgyQtgINl",
        "boAZDFUizFeg",
        "I9iDIZ973gxa",
        "ay58t-XT1e-F"
      ]
    },
    "kernelspec": {
      "name": "python3",
      "display_name": "Python 3"
    },
    "language_info": {
      "name": "python"
    }
  },
  "cells": [
    {
      "cell_type": "markdown",
      "metadata": {
        "id": "bMT8CzMIryyc"
      },
      "source": [
        "**Постановка задачи:**\n",
        "\n",
        "Предлагается поработать с банковскими данными и решить исследовательскую задачу: \n",
        "\n",
        "\n",
        "*   определить пол клиента по его финансовым тратам.\n",
        "\n",
        "\n",
        "Основные данные представляют из себя историю банковских транзакций, а также демографическую информацию по некоторой выборке клиентов (данные обезличены и специальным образом искажены).\n"
      ]
    },
    {
      "cell_type": "code",
      "metadata": {
        "id": "FFnBmhP_HABo"
      },
      "source": [
        "import pandas as pd\n",
        "import numpy as np\n",
        "\n",
        "import xgboost\n",
        "from sklearn.metrics import accuracy_score\n",
        "import sklearn.model_selection\n",
        "from sklearn.ensemble import GradientBoostingClassifier\n",
        "\n",
        "import matplotlib.pyplot as plt\n",
        "import seaborn as sns\n",
        "import plotly.graph_objects as go"
      ],
      "execution_count": 1,
      "outputs": []
    },
    {
      "cell_type": "markdown",
      "metadata": {
        "id": "TBulrCnL0IKB"
      },
      "source": [
        "Подгрузим исходные данные с gitHub репозитория:"
      ]
    },
    {
      "cell_type": "code",
      "metadata": {
        "id": "YhNZdP3HHKoA",
        "colab": {
          "base_uri": "https://localhost:8080/"
        },
        "outputId": "04e5c7eb-6673-46a1-d07b-c10f79b67dac"
      },
      "source": [
        "url_customers_gender_train = 'https://raw.githubusercontent.com/Konstantan99/to-determine-the-gender-of-a-person/main/customers_gender_train.csv' \n",
        "customers_gender_train = pd.read_csv(url_customers_gender_train, delimiter=',')\n",
        "\n",
        "url_tr_mcc_codes = 'https://raw.githubusercontent.com/Konstantan99/to-determine-the-gender-of-a-person/main/tr_mcc_codes.csv' \n",
        "tr_mcc_codes = pd.read_csv(url_tr_mcc_codes)\n",
        "del tr_mcc_codes['Unnamed: 2']\n",
        "del tr_mcc_codes['Unnamed: 3']\n",
        "del tr_mcc_codes['Unnamed: 4']\n",
        "del tr_mcc_codes['Unnamed: 5']\n",
        "\n",
        "url_transactions = 'https://raw.githubusercontent.com/Konstantan99/to-determine-the-gender-of-a-person/main/transactions.csv' \n",
        "transactions = pd.read_csv(url_transactions)\n",
        "\n",
        "print(\n",
        "    '''\n",
        "Размеры выборок, (объекты, признаки).\n",
        "- customers_gender_train: {}\n",
        "- tr_mcc_codes: {}\n",
        "- transactions: {}\n",
        "    '''.format(\n",
        "        customers_gender_train.shape,  \n",
        "        tr_mcc_codes.shape,\n",
        "        transactions.shape\n",
        "    )\n",
        ")"
      ],
      "execution_count": 2,
      "outputs": [
        {
          "output_type": "stream",
          "name": "stdout",
          "text": [
            "\n",
            "Размеры выборок, (объекты, признаки).\n",
            "- customers_gender_train: (12000, 2)\n",
            "- tr_mcc_codes: (184, 2)\n",
            "- transactions: (499999, 6)\n",
            "    \n"
          ]
        }
      ]
    },
    {
      "cell_type": "markdown",
      "metadata": {
        "id": "TTXDgyQtgINl"
      },
      "source": [
        "# Описание таблиц"
      ]
    },
    {
      "cell_type": "markdown",
      "metadata": {
        "id": "1rZH3gzhRXJZ"
      },
      "source": [
        "**ОПИСАНИЕ ИСХОДНЫХ ДАННЫХ**\n",
        "\n",
        "\n",
        "---\n",
        "\n",
        "\n",
        "**Таблица transactions.csv**\n",
        "\n",
        "***Описание:*** Таблица содержит историю транзакций клиентов банка за один год и три месяца.\n",
        "\n",
        "***Описание полей:***\n",
        "*   customer_id — идентификатор клиента;\n",
        "*   tr_datetime — день и время совершения транзакции (дни нумеруются с начала данных);\n",
        "*   mcc_code — mcc-код транзакции;\n",
        "*   tr_type — тип транзакции;\n",
        "*   amount — сумма транзакции в условных единицах со знаком; + — начисление средств клиенту (приходная транзакция), - — списание средств (расходная транзакция);\n",
        "*   term_id — идентификатор терминала;\n",
        "\n",
        "\n",
        "---\n",
        "\n",
        "\n",
        "***Таблица customers_gender_train.csv***\n",
        "\n",
        "***Описание:*** Данная таблица содержит информацию по полу для части клиентов, для которых он известен. Для остальных клиентов пол необходимо предсказать в задаче A.\n",
        "\n",
        "Описание полей:\n",
        "*   customer_id — идентификатор клиента;\n",
        "*   gender — пол клиента; 0 — женский, 1 — мужской;\n",
        "\n",
        "\n",
        "\n",
        "---\n",
        "\n",
        "\n",
        "**Таблица tr_mcc_codes.csv**\n",
        "\n",
        "***Описание:*** Данная таблица содержит описание mcc-кодов транзакций.\n",
        "\n",
        "Формат данных\n",
        "\n",
        "mcc_code;mcc_description\n",
        "1000;словесное описание mcc-кода 1000\n",
        "2000;словесное описание mcc-кода 2000\n",
        "\n",
        "Описание полей:\n",
        "*   mcc_code – mcc-код транзакции;\n",
        "*   mcc_description — описание mcc-кода транзакции.\n",
        "\n",
        "\n",
        "---\n",
        "\n",
        "\n",
        "**Таблица tr_types.csv**\n",
        "***Описание:*** Данная таблица содержит описание типов транзакций.\n",
        "\n",
        "Описание полей:\n",
        "*   tr_type – тип транзакции;\n",
        "*   tr_description — описание типа транзакции."
      ]
    },
    {
      "cell_type": "code",
      "metadata": {
        "colab": {
          "base_uri": "https://localhost:8080/",
          "height": 0
        },
        "id": "--5GgeEyQbB-",
        "outputId": "3871a134-697c-4b9f-a735-cce760cb43e5"
      },
      "source": [
        "customers_gender_train.head(5)"
      ],
      "execution_count": 3,
      "outputs": [
        {
          "output_type": "execute_result",
          "data": {
            "text/html": [
              "<div>\n",
              "<style scoped>\n",
              "    .dataframe tbody tr th:only-of-type {\n",
              "        vertical-align: middle;\n",
              "    }\n",
              "\n",
              "    .dataframe tbody tr th {\n",
              "        vertical-align: top;\n",
              "    }\n",
              "\n",
              "    .dataframe thead th {\n",
              "        text-align: right;\n",
              "    }\n",
              "</style>\n",
              "<table border=\"1\" class=\"dataframe\">\n",
              "  <thead>\n",
              "    <tr style=\"text-align: right;\">\n",
              "      <th></th>\n",
              "      <th>customer_id</th>\n",
              "      <th>gender</th>\n",
              "    </tr>\n",
              "  </thead>\n",
              "  <tbody>\n",
              "    <tr>\n",
              "      <th>0</th>\n",
              "      <td>75562265</td>\n",
              "      <td>0</td>\n",
              "    </tr>\n",
              "    <tr>\n",
              "      <th>1</th>\n",
              "      <td>10928546</td>\n",
              "      <td>1</td>\n",
              "    </tr>\n",
              "    <tr>\n",
              "      <th>2</th>\n",
              "      <td>69348468</td>\n",
              "      <td>1</td>\n",
              "    </tr>\n",
              "    <tr>\n",
              "      <th>3</th>\n",
              "      <td>84816985</td>\n",
              "      <td>1</td>\n",
              "    </tr>\n",
              "    <tr>\n",
              "      <th>4</th>\n",
              "      <td>61009479</td>\n",
              "      <td>0</td>\n",
              "    </tr>\n",
              "  </tbody>\n",
              "</table>\n",
              "</div>"
            ],
            "text/plain": [
              "   customer_id  gender\n",
              "0     75562265       0\n",
              "1     10928546       1\n",
              "2     69348468       1\n",
              "3     84816985       1\n",
              "4     61009479       0"
            ]
          },
          "metadata": {},
          "execution_count": 3
        }
      ]
    },
    {
      "cell_type": "code",
      "metadata": {
        "colab": {
          "base_uri": "https://localhost:8080/",
          "height": 0
        },
        "id": "aGIrkdx7VLaJ",
        "outputId": "ed5b542d-d9d8-4381-e726-937fed1c9bbc"
      },
      "source": [
        "transactions.head(5)"
      ],
      "execution_count": 4,
      "outputs": [
        {
          "output_type": "execute_result",
          "data": {
            "text/html": [
              "<div>\n",
              "<style scoped>\n",
              "    .dataframe tbody tr th:only-of-type {\n",
              "        vertical-align: middle;\n",
              "    }\n",
              "\n",
              "    .dataframe tbody tr th {\n",
              "        vertical-align: top;\n",
              "    }\n",
              "\n",
              "    .dataframe thead th {\n",
              "        text-align: right;\n",
              "    }\n",
              "</style>\n",
              "<table border=\"1\" class=\"dataframe\">\n",
              "  <thead>\n",
              "    <tr style=\"text-align: right;\">\n",
              "      <th></th>\n",
              "      <th>customer_id</th>\n",
              "      <th>tr_datetime</th>\n",
              "      <th>mcc_code</th>\n",
              "      <th>tr_type</th>\n",
              "      <th>amount</th>\n",
              "      <th>term_id</th>\n",
              "    </tr>\n",
              "  </thead>\n",
              "  <tbody>\n",
              "    <tr>\n",
              "      <th>0</th>\n",
              "      <td>39026145</td>\n",
              "      <td>0 10:23:26</td>\n",
              "      <td>4814</td>\n",
              "      <td>1030</td>\n",
              "      <td>-2245.92</td>\n",
              "      <td>NaN</td>\n",
              "    </tr>\n",
              "    <tr>\n",
              "      <th>1</th>\n",
              "      <td>39026145</td>\n",
              "      <td>1 10:19:29</td>\n",
              "      <td>6011</td>\n",
              "      <td>7010</td>\n",
              "      <td>56147.89</td>\n",
              "      <td>NaN</td>\n",
              "    </tr>\n",
              "    <tr>\n",
              "      <th>2</th>\n",
              "      <td>39026145</td>\n",
              "      <td>1 10:20:56</td>\n",
              "      <td>4829</td>\n",
              "      <td>2330</td>\n",
              "      <td>-56147.89</td>\n",
              "      <td>NaN</td>\n",
              "    </tr>\n",
              "    <tr>\n",
              "      <th>3</th>\n",
              "      <td>39026145</td>\n",
              "      <td>1 10:39:54</td>\n",
              "      <td>5499</td>\n",
              "      <td>1010</td>\n",
              "      <td>-1392.47</td>\n",
              "      <td>NaN</td>\n",
              "    </tr>\n",
              "    <tr>\n",
              "      <th>4</th>\n",
              "      <td>39026145</td>\n",
              "      <td>2 15:33:42</td>\n",
              "      <td>5499</td>\n",
              "      <td>1010</td>\n",
              "      <td>-920.83</td>\n",
              "      <td>NaN</td>\n",
              "    </tr>\n",
              "  </tbody>\n",
              "</table>\n",
              "</div>"
            ],
            "text/plain": [
              "   customer_id tr_datetime  mcc_code  tr_type    amount term_id\n",
              "0     39026145  0 10:23:26      4814     1030  -2245.92     NaN\n",
              "1     39026145  1 10:19:29      6011     7010  56147.89     NaN\n",
              "2     39026145  1 10:20:56      4829     2330 -56147.89     NaN\n",
              "3     39026145  1 10:39:54      5499     1010  -1392.47     NaN\n",
              "4     39026145  2 15:33:42      5499     1010   -920.83     NaN"
            ]
          },
          "metadata": {},
          "execution_count": 4
        }
      ]
    },
    {
      "cell_type": "code",
      "metadata": {
        "colab": {
          "base_uri": "https://localhost:8080/",
          "height": 0
        },
        "id": "edhfOSkYVQOf",
        "outputId": "848fef2f-7fef-4895-8428-44d34ae64628"
      },
      "source": [
        "tr_mcc_codes.head(5)"
      ],
      "execution_count": 5,
      "outputs": [
        {
          "output_type": "execute_result",
          "data": {
            "text/html": [
              "<div>\n",
              "<style scoped>\n",
              "    .dataframe tbody tr th:only-of-type {\n",
              "        vertical-align: middle;\n",
              "    }\n",
              "\n",
              "    .dataframe tbody tr th {\n",
              "        vertical-align: top;\n",
              "    }\n",
              "\n",
              "    .dataframe thead th {\n",
              "        text-align: right;\n",
              "    }\n",
              "</style>\n",
              "<table border=\"1\" class=\"dataframe\">\n",
              "  <thead>\n",
              "    <tr style=\"text-align: right;\">\n",
              "      <th></th>\n",
              "      <th>mcc_code</th>\n",
              "      <th>mcc_description</th>\n",
              "    </tr>\n",
              "  </thead>\n",
              "  <tbody>\n",
              "    <tr>\n",
              "      <th>0</th>\n",
              "      <td>742</td>\n",
              "      <td>Ветеринарные услуги</td>\n",
              "    </tr>\n",
              "    <tr>\n",
              "      <th>1</th>\n",
              "      <td>1711</td>\n",
              "      <td>Генеральные подрядчики по вентиляции</td>\n",
              "    </tr>\n",
              "    <tr>\n",
              "      <th>2</th>\n",
              "      <td>1731</td>\n",
              "      <td>Подрядчики по электричеству</td>\n",
              "    </tr>\n",
              "    <tr>\n",
              "      <th>3</th>\n",
              "      <td>1799</td>\n",
              "      <td>Подрядчики</td>\n",
              "    </tr>\n",
              "    <tr>\n",
              "      <th>4</th>\n",
              "      <td>2741</td>\n",
              "      <td>Разнообразные издательства/печатное дело</td>\n",
              "    </tr>\n",
              "  </tbody>\n",
              "</table>\n",
              "</div>"
            ],
            "text/plain": [
              "   mcc_code                           mcc_description\n",
              "0       742                       Ветеринарные услуги\n",
              "1      1711      Генеральные подрядчики по вентиляции\n",
              "2      1731               Подрядчики по электричеству\n",
              "3      1799                                Подрядчики\n",
              "4      2741  Разнообразные издательства/печатное дело"
            ]
          },
          "metadata": {},
          "execution_count": 5
        }
      ]
    },
    {
      "cell_type": "markdown",
      "metadata": {
        "id": "boAZDFUizFeg"
      },
      "source": [
        "# Предобработка исходных данных"
      ]
    },
    {
      "cell_type": "markdown",
      "metadata": {
        "id": "L1EeZGCpza_d"
      },
      "source": [
        "Оставляем те строки, по которым мы знаем пол из таблицы `customers_gender_train`. \n",
        "\n",
        "Для Y значений также оставляем только те, по которым мы имеем транзакции"
      ]
    },
    {
      "cell_type": "code",
      "metadata": {
        "id": "7O4BJ1SNysao"
      },
      "source": [
        "needed_transaction = transactions[transactions['customer_id'].isin(customers_gender_train['customer_id'])]\n",
        "Y = customers_gender_train[customers_gender_train['customer_id'].isin(needed_transaction['customer_id'])]"
      ],
      "execution_count": 6,
      "outputs": []
    },
    {
      "cell_type": "markdown",
      "metadata": {
        "id": "-WbKJil43-zn"
      },
      "source": [
        "Разделим столбец `tr_datetime` из вида `\"1 10:20:56\"`\tна день и время"
      ]
    },
    {
      "cell_type": "code",
      "metadata": {
        "id": "6v9VKuUn2wTO"
      },
      "source": [
        "time_df = needed_transaction['tr_datetime'].str.split(' ', expand=True) #разделяем временной столбец на день и время\n",
        "time_df.columns=['number_day','time']\n",
        "needed_transaction = pd.concat([needed_transaction, time_df], axis=1)\n",
        "del needed_transaction['tr_datetime']\n",
        "\n",
        "#преобразуем данные в нужные форматы\n",
        "needed_transaction['number_day'] = pd.to_numeric(needed_transaction['number_day'])"
      ],
      "execution_count": 7,
      "outputs": []
    },
    {
      "cell_type": "code",
      "metadata": {
        "colab": {
          "base_uri": "https://localhost:8080/",
          "height": 0
        },
        "id": "krXR3lncrNUO",
        "outputId": "ffdde7b2-f81f-4949-86ab-c7dd51080f67"
      },
      "source": [
        "needed_transaction.head()"
      ],
      "execution_count": 8,
      "outputs": [
        {
          "output_type": "execute_result",
          "data": {
            "text/html": [
              "<div>\n",
              "<style scoped>\n",
              "    .dataframe tbody tr th:only-of-type {\n",
              "        vertical-align: middle;\n",
              "    }\n",
              "\n",
              "    .dataframe tbody tr th {\n",
              "        vertical-align: top;\n",
              "    }\n",
              "\n",
              "    .dataframe thead th {\n",
              "        text-align: right;\n",
              "    }\n",
              "</style>\n",
              "<table border=\"1\" class=\"dataframe\">\n",
              "  <thead>\n",
              "    <tr style=\"text-align: right;\">\n",
              "      <th></th>\n",
              "      <th>customer_id</th>\n",
              "      <th>mcc_code</th>\n",
              "      <th>tr_type</th>\n",
              "      <th>amount</th>\n",
              "      <th>term_id</th>\n",
              "      <th>number_day</th>\n",
              "      <th>time</th>\n",
              "    </tr>\n",
              "  </thead>\n",
              "  <tbody>\n",
              "    <tr>\n",
              "      <th>0</th>\n",
              "      <td>39026145</td>\n",
              "      <td>4814</td>\n",
              "      <td>1030</td>\n",
              "      <td>-2245.92</td>\n",
              "      <td>NaN</td>\n",
              "      <td>0</td>\n",
              "      <td>10:23:26</td>\n",
              "    </tr>\n",
              "    <tr>\n",
              "      <th>1</th>\n",
              "      <td>39026145</td>\n",
              "      <td>6011</td>\n",
              "      <td>7010</td>\n",
              "      <td>56147.89</td>\n",
              "      <td>NaN</td>\n",
              "      <td>1</td>\n",
              "      <td>10:19:29</td>\n",
              "    </tr>\n",
              "    <tr>\n",
              "      <th>2</th>\n",
              "      <td>39026145</td>\n",
              "      <td>4829</td>\n",
              "      <td>2330</td>\n",
              "      <td>-56147.89</td>\n",
              "      <td>NaN</td>\n",
              "      <td>1</td>\n",
              "      <td>10:20:56</td>\n",
              "    </tr>\n",
              "    <tr>\n",
              "      <th>3</th>\n",
              "      <td>39026145</td>\n",
              "      <td>5499</td>\n",
              "      <td>1010</td>\n",
              "      <td>-1392.47</td>\n",
              "      <td>NaN</td>\n",
              "      <td>1</td>\n",
              "      <td>10:39:54</td>\n",
              "    </tr>\n",
              "    <tr>\n",
              "      <th>4</th>\n",
              "      <td>39026145</td>\n",
              "      <td>5499</td>\n",
              "      <td>1010</td>\n",
              "      <td>-920.83</td>\n",
              "      <td>NaN</td>\n",
              "      <td>2</td>\n",
              "      <td>15:33:42</td>\n",
              "    </tr>\n",
              "  </tbody>\n",
              "</table>\n",
              "</div>"
            ],
            "text/plain": [
              "   customer_id  mcc_code  tr_type    amount term_id  number_day      time\n",
              "0     39026145      4814     1030  -2245.92     NaN           0  10:23:26\n",
              "1     39026145      6011     7010  56147.89     NaN           1  10:19:29\n",
              "2     39026145      4829     2330 -56147.89     NaN           1  10:20:56\n",
              "3     39026145      5499     1010  -1392.47     NaN           1  10:39:54\n",
              "4     39026145      5499     1010   -920.83     NaN           2  15:33:42"
            ]
          },
          "metadata": {},
          "execution_count": 8
        }
      ]
    },
    {
      "cell_type": "markdown",
      "metadata": {
        "id": "UF3i7EFdgQfC"
      },
      "source": [
        "# Определение времени по исходным данным"
      ]
    },
    {
      "cell_type": "markdown",
      "metadata": {
        "id": "Mm_gE2mrx-WJ"
      },
      "source": [
        "Рассмотрим транзакции из флористики "
      ]
    },
    {
      "cell_type": "code",
      "metadata": {
        "id": "3kaqz-YWxtt4"
      },
      "source": [
        "transactions_floristic = transactions[transactions['mcc_code'] == 5992]\n",
        "time_df = transactions_floristic['tr_datetime'].str.split(' ', expand=True) #разделяем временной столбец на день и время\n",
        "time_df.columns=['number_day','time']\n",
        "transactions_floristic = pd.concat([transactions_floristic, time_df], axis=1)\n",
        "transactions_floristic['number_day'] = pd.to_numeric(transactions_floristic['number_day'])\n",
        "\n",
        "df_for_plot = pd.DataFrame(transactions_floristic['number_day'].value_counts()) #определяем сколько прошло транзакций в каждый по счету день \n",
        "df_for_plot = df_for_plot.reset_index()\n",
        "df_for_plot.columns = ['day','count_day']\n",
        "df_for_plot['percent_transactions'] = df_for_plot['count_day'] / df_for_plot['count_day'].sum() * 100 #определяем относительное количество покупок\n",
        "\n",
        "df_for_plot = df_for_plot.sort_values('day', ascending=True) #сортируем день по возрастанию"
      ],
      "execution_count": 9,
      "outputs": []
    },
    {
      "cell_type": "code",
      "metadata": {
        "colab": {
          "base_uri": "https://localhost:8080/",
          "height": 0
        },
        "id": "CTRb_64EyfV-",
        "outputId": "8392e332-0181-4900-c4e1-cedbf413d41f"
      },
      "source": [
        "# Создание фигуры точечного графика\n",
        "fig = go.Figure(data=go.Scatter(\n",
        "    x=df_for_plot['day'], y=df_for_plot['percent_transactions']\n",
        "))\n",
        "# Добавление подписей для графика\n",
        "fig.update_layout(\n",
        "    title_font_size=20,\n",
        "    xaxis_title=\"День по счету\",\n",
        "    yaxis_title=\"Количество транзакций\",  \n",
        ")\n",
        "# Отображение графика\n",
        "fig.show()"
      ],
      "execution_count": 10,
      "outputs": [
        {
          "output_type": "display_data",
          "data": {
            "text/html": [
              "<html>\n",
              "<head><meta charset=\"utf-8\" /></head>\n",
              "<body>\n",
              "    <div>\n",
              "            <script src=\"https://cdnjs.cloudflare.com/ajax/libs/mathjax/2.7.5/MathJax.js?config=TeX-AMS-MML_SVG\"></script><script type=\"text/javascript\">if (window.MathJax) {MathJax.Hub.Config({SVG: {font: \"STIX-Web\"}});}</script>\n",
              "                <script type=\"text/javascript\">window.PlotlyConfig = {MathJaxConfig: 'local'};</script>\n",
              "        <script src=\"https://cdn.plot.ly/plotly-latest.min.js\"></script>    \n",
              "            <div id=\"dee377e2-e832-4dc9-859f-265b1bdf39d7\" class=\"plotly-graph-div\" style=\"height:525px; width:100%;\"></div>\n",
              "            <script type=\"text/javascript\">\n",
              "                \n",
              "                    window.PLOTLYENV=window.PLOTLYENV || {};\n",
              "                    \n",
              "                if (document.getElementById(\"dee377e2-e832-4dc9-859f-265b1bdf39d7\")) {\n",
              "                    Plotly.newPlot(\n",
              "                        'dee377e2-e832-4dc9-859f-265b1bdf39d7',\n",
              "                        [{\"type\": \"scatter\", \"x\": [0, 1, 3, 5, 7, 10, 12, 17, 19, 20, 21, 23, 24, 26, 29, 30, 31, 32, 33, 34, 35, 36, 37, 38, 39, 42, 43, 44, 45, 47, 48, 50, 53, 56, 59, 60, 62, 63, 64, 70, 71, 74, 76, 78, 80, 81, 83, 84, 86, 88, 89, 90, 92, 95, 96, 101, 102, 105, 106, 107, 109, 110, 113, 114, 115, 116, 118, 119, 120, 121, 122, 125, 126, 127, 128, 129, 131, 136, 137, 138, 141, 142, 146, 147, 148, 150, 151, 152, 155, 156, 158, 159, 160, 161, 164, 167, 173, 175, 176, 177, 178, 181, 182, 183, 184, 185, 187, 188, 189, 190, 191, 194, 196, 197, 200, 201, 202, 203, 205, 206, 207, 208, 209, 210, 211, 212, 213, 214, 215, 216, 217, 218, 219, 220, 221, 222, 223, 224, 225, 226, 227, 228, 229, 231, 232, 233, 236, 237, 238, 239, 240, 242, 243, 244, 245, 246, 247, 248, 250, 251, 252, 253, 254, 256, 259, 261, 262, 263, 267, 268, 269, 271, 272, 273, 274, 275, 276, 278, 279, 280, 282, 284, 285, 286, 287, 288, 289, 290, 292, 293, 294, 295, 296, 297, 299, 300, 301, 302, 303, 304, 305, 307, 309, 310, 311, 312, 315, 318, 319, 320, 324, 325, 327, 329, 330, 332, 333, 335, 337, 338, 340, 341, 343, 346, 347, 353, 357, 358, 360, 361, 362, 363, 365, 366, 367, 369, 370, 372, 373, 375, 376, 377, 379, 380, 381, 383, 384, 385, 386, 387, 391, 393, 395, 396, 397, 399, 400, 402, 403, 404, 405, 406, 407, 408, 410, 411, 412, 413, 414, 416, 417, 420, 421, 422, 423, 424, 425, 426, 427, 428, 429, 430, 432, 435, 436, 438, 440, 441, 442, 443, 444, 445, 446, 447, 448, 449, 451, 455], \"y\": [0.1984126984126984, 0.1984126984126984, 0.1984126984126984, 0.1984126984126984, 0.1984126984126984, 0.1984126984126984, 0.1984126984126984, 0.3968253968253968, 0.1984126984126984, 0.1984126984126984, 0.1984126984126984, 0.1984126984126984, 0.5952380952380952, 0.1984126984126984, 0.5952380952380952, 1.3888888888888888, 0.3968253968253968, 0.1984126984126984, 0.1984126984126984, 0.1984126984126984, 0.1984126984126984, 0.1984126984126984, 0.3968253968253968, 0.5952380952380952, 0.1984126984126984, 0.1984126984126984, 0.1984126984126984, 0.1984126984126984, 0.1984126984126984, 0.3968253968253968, 0.3968253968253968, 0.1984126984126984, 0.1984126984126984, 0.3968253968253968, 0.1984126984126984, 0.1984126984126984, 0.1984126984126984, 0.1984126984126984, 0.1984126984126984, 0.1984126984126984, 0.1984126984126984, 0.1984126984126984, 0.3968253968253968, 0.1984126984126984, 0.1984126984126984, 0.3968253968253968, 0.1984126984126984, 0.1984126984126984, 0.5952380952380952, 0.1984126984126984, 0.1984126984126984, 0.1984126984126984, 0.1984126984126984, 0.3968253968253968, 0.1984126984126984, 0.3968253968253968, 0.1984126984126984, 0.3968253968253968, 0.1984126984126984, 0.5952380952380952, 0.1984126984126984, 0.5952380952380952, 0.1984126984126984, 0.1984126984126984, 0.1984126984126984, 0.3968253968253968, 0.1984126984126984, 0.1984126984126984, 0.3968253968253968, 0.1984126984126984, 0.1984126984126984, 0.1984126984126984, 0.3968253968253968, 0.3968253968253968, 0.1984126984126984, 0.1984126984126984, 0.1984126984126984, 0.1984126984126984, 0.5952380952380952, 0.5952380952380952, 0.5952380952380952, 0.1984126984126984, 0.1984126984126984, 0.1984126984126984, 0.1984126984126984, 0.3968253968253968, 0.3968253968253968, 0.3968253968253968, 0.1984126984126984, 0.1984126984126984, 0.1984126984126984, 0.3968253968253968, 0.1984126984126984, 0.1984126984126984, 0.3968253968253968, 0.1984126984126984, 0.5952380952380952, 0.3968253968253968, 0.5952380952380952, 0.1984126984126984, 0.3968253968253968, 0.1984126984126984, 0.5952380952380952, 0.3968253968253968, 0.1984126984126984, 0.1984126984126984, 0.3968253968253968, 0.1984126984126984, 0.1984126984126984, 0.1984126984126984, 0.1984126984126984, 0.1984126984126984, 0.992063492063492, 0.992063492063492, 0.1984126984126984, 0.1984126984126984, 0.3968253968253968, 0.5952380952380952, 0.1984126984126984, 0.5952380952380952, 0.3968253968253968, 0.3968253968253968, 0.3968253968253968, 0.1984126984126984, 0.5952380952380952, 0.3968253968253968, 0.3968253968253968, 0.1984126984126984, 0.5952380952380952, 0.5952380952380952, 0.992063492063492, 1.3888888888888888, 0.992063492063492, 0.1984126984126984, 0.1984126984126984, 0.1984126984126984, 0.1984126984126984, 0.1984126984126984, 0.1984126984126984, 0.7936507936507936, 0.5952380952380952, 0.1984126984126984, 0.1984126984126984, 0.5952380952380952, 0.3968253968253968, 0.1984126984126984, 0.3968253968253968, 0.1984126984126984, 0.5952380952380952, 0.1984126984126984, 0.1984126984126984, 0.1984126984126984, 0.1984126984126984, 0.3968253968253968, 0.3968253968253968, 0.1984126984126984, 0.3968253968253968, 0.3968253968253968, 0.1984126984126984, 0.1984126984126984, 0.3968253968253968, 0.3968253968253968, 0.1984126984126984, 0.1984126984126984, 0.5952380952380952, 0.1984126984126984, 0.1984126984126984, 0.1984126984126984, 0.7936507936507936, 0.3968253968253968, 0.5952380952380952, 0.3968253968253968, 0.1984126984126984, 0.1984126984126984, 0.3968253968253968, 0.3968253968253968, 0.1984126984126984, 0.1984126984126984, 0.7936507936507936, 0.1984126984126984, 0.1984126984126984, 0.1984126984126984, 0.1984126984126984, 0.1984126984126984, 0.1984126984126984, 0.3968253968253968, 0.1984126984126984, 0.3968253968253968, 0.3968253968253968, 0.1984126984126984, 0.5952380952380952, 0.3968253968253968, 0.3968253968253968, 0.3968253968253968, 0.3968253968253968, 0.1984126984126984, 0.1984126984126984, 0.1984126984126984, 0.1984126984126984, 0.3968253968253968, 0.5952380952380952, 0.5952380952380952, 0.1984126984126984, 0.3968253968253968, 0.1984126984126984, 0.7936507936507936, 0.1984126984126984, 0.3968253968253968, 0.5952380952380952, 0.1984126984126984, 0.5952380952380952, 0.1984126984126984, 0.3968253968253968, 0.1984126984126984, 0.3968253968253968, 0.1984126984126984, 0.1984126984126984, 0.1984126984126984, 0.1984126984126984, 0.1984126984126984, 0.1984126984126984, 0.3968253968253968, 0.1984126984126984, 0.5952380952380952, 0.1984126984126984, 0.5952380952380952, 0.3968253968253968, 0.1984126984126984, 0.3968253968253968, 0.1984126984126984, 0.1984126984126984, 0.5952380952380952, 0.1984126984126984, 0.1984126984126984, 0.3968253968253968, 0.1984126984126984, 0.1984126984126984, 0.3968253968253968, 0.1984126984126984, 0.1984126984126984, 0.1984126984126984, 0.1984126984126984, 0.1984126984126984, 0.1984126984126984, 0.3968253968253968, 0.1984126984126984, 0.1984126984126984, 0.1984126984126984, 0.1984126984126984, 0.1984126984126984, 0.1984126984126984, 0.1984126984126984, 0.7936507936507936, 1.1904761904761905, 0.5952380952380952, 0.1984126984126984, 0.7936507936507936, 0.1984126984126984, 0.5952380952380952, 0.1984126984126984, 0.1984126984126984, 0.1984126984126984, 0.5952380952380952, 0.1984126984126984, 0.1984126984126984, 0.3968253968253968, 0.7936507936507936, 0.3968253968253968, 0.1984126984126984, 0.1984126984126984, 0.1984126984126984, 0.3968253968253968, 0.3968253968253968, 0.1984126984126984, 0.5952380952380952, 0.1984126984126984, 0.3968253968253968, 0.7936507936507936, 0.1984126984126984, 0.1984126984126984, 0.1984126984126984, 0.3968253968253968, 0.3968253968253968, 0.3968253968253968, 0.3968253968253968, 0.3968253968253968, 0.3968253968253968, 0.3968253968253968, 0.7936507936507936, 0.1984126984126984, 0.3968253968253968, 0.5952380952380952, 0.3968253968253968, 0.1984126984126984, 0.1984126984126984, 0.3968253968253968, 0.1984126984126984, 0.3968253968253968]}],\n",
              "                        {\"template\": {\"data\": {\"bar\": [{\"error_x\": {\"color\": \"#2a3f5f\"}, \"error_y\": {\"color\": \"#2a3f5f\"}, \"marker\": {\"line\": {\"color\": \"#E5ECF6\", \"width\": 0.5}}, \"type\": \"bar\"}], \"barpolar\": [{\"marker\": {\"line\": {\"color\": \"#E5ECF6\", \"width\": 0.5}}, \"type\": \"barpolar\"}], \"carpet\": [{\"aaxis\": {\"endlinecolor\": \"#2a3f5f\", \"gridcolor\": \"white\", \"linecolor\": \"white\", \"minorgridcolor\": \"white\", \"startlinecolor\": \"#2a3f5f\"}, \"baxis\": {\"endlinecolor\": \"#2a3f5f\", \"gridcolor\": \"white\", \"linecolor\": \"white\", \"minorgridcolor\": \"white\", \"startlinecolor\": \"#2a3f5f\"}, \"type\": \"carpet\"}], \"choropleth\": [{\"colorbar\": {\"outlinewidth\": 0, \"ticks\": \"\"}, \"type\": \"choropleth\"}], \"contour\": [{\"colorbar\": {\"outlinewidth\": 0, \"ticks\": \"\"}, \"colorscale\": [[0.0, \"#0d0887\"], [0.1111111111111111, \"#46039f\"], [0.2222222222222222, \"#7201a8\"], [0.3333333333333333, \"#9c179e\"], [0.4444444444444444, \"#bd3786\"], [0.5555555555555556, \"#d8576b\"], [0.6666666666666666, \"#ed7953\"], [0.7777777777777778, \"#fb9f3a\"], [0.8888888888888888, \"#fdca26\"], [1.0, \"#f0f921\"]], \"type\": \"contour\"}], \"contourcarpet\": [{\"colorbar\": {\"outlinewidth\": 0, \"ticks\": \"\"}, \"type\": \"contourcarpet\"}], \"heatmap\": [{\"colorbar\": {\"outlinewidth\": 0, \"ticks\": \"\"}, \"colorscale\": [[0.0, \"#0d0887\"], [0.1111111111111111, \"#46039f\"], [0.2222222222222222, \"#7201a8\"], [0.3333333333333333, \"#9c179e\"], [0.4444444444444444, \"#bd3786\"], [0.5555555555555556, \"#d8576b\"], [0.6666666666666666, \"#ed7953\"], [0.7777777777777778, \"#fb9f3a\"], [0.8888888888888888, \"#fdca26\"], [1.0, \"#f0f921\"]], \"type\": \"heatmap\"}], \"heatmapgl\": [{\"colorbar\": {\"outlinewidth\": 0, \"ticks\": \"\"}, \"colorscale\": [[0.0, \"#0d0887\"], [0.1111111111111111, \"#46039f\"], [0.2222222222222222, \"#7201a8\"], [0.3333333333333333, \"#9c179e\"], [0.4444444444444444, \"#bd3786\"], [0.5555555555555556, \"#d8576b\"], [0.6666666666666666, \"#ed7953\"], [0.7777777777777778, \"#fb9f3a\"], [0.8888888888888888, \"#fdca26\"], [1.0, \"#f0f921\"]], \"type\": \"heatmapgl\"}], \"histogram\": [{\"marker\": {\"colorbar\": {\"outlinewidth\": 0, \"ticks\": \"\"}}, \"type\": \"histogram\"}], \"histogram2d\": [{\"colorbar\": {\"outlinewidth\": 0, \"ticks\": \"\"}, \"colorscale\": [[0.0, \"#0d0887\"], [0.1111111111111111, \"#46039f\"], [0.2222222222222222, \"#7201a8\"], [0.3333333333333333, \"#9c179e\"], [0.4444444444444444, \"#bd3786\"], [0.5555555555555556, \"#d8576b\"], [0.6666666666666666, \"#ed7953\"], [0.7777777777777778, \"#fb9f3a\"], [0.8888888888888888, \"#fdca26\"], [1.0, \"#f0f921\"]], \"type\": \"histogram2d\"}], \"histogram2dcontour\": [{\"colorbar\": {\"outlinewidth\": 0, \"ticks\": \"\"}, \"colorscale\": [[0.0, \"#0d0887\"], [0.1111111111111111, \"#46039f\"], [0.2222222222222222, \"#7201a8\"], [0.3333333333333333, \"#9c179e\"], [0.4444444444444444, \"#bd3786\"], [0.5555555555555556, \"#d8576b\"], [0.6666666666666666, \"#ed7953\"], [0.7777777777777778, \"#fb9f3a\"], [0.8888888888888888, \"#fdca26\"], [1.0, \"#f0f921\"]], \"type\": \"histogram2dcontour\"}], \"mesh3d\": [{\"colorbar\": {\"outlinewidth\": 0, \"ticks\": \"\"}, \"type\": \"mesh3d\"}], \"parcoords\": [{\"line\": {\"colorbar\": {\"outlinewidth\": 0, \"ticks\": \"\"}}, \"type\": \"parcoords\"}], \"pie\": [{\"automargin\": true, \"type\": \"pie\"}], \"scatter\": [{\"marker\": {\"colorbar\": {\"outlinewidth\": 0, \"ticks\": \"\"}}, \"type\": \"scatter\"}], \"scatter3d\": [{\"line\": {\"colorbar\": {\"outlinewidth\": 0, \"ticks\": \"\"}}, \"marker\": {\"colorbar\": {\"outlinewidth\": 0, \"ticks\": \"\"}}, \"type\": \"scatter3d\"}], \"scattercarpet\": [{\"marker\": {\"colorbar\": {\"outlinewidth\": 0, \"ticks\": \"\"}}, \"type\": \"scattercarpet\"}], \"scattergeo\": [{\"marker\": {\"colorbar\": {\"outlinewidth\": 0, \"ticks\": \"\"}}, \"type\": \"scattergeo\"}], \"scattergl\": [{\"marker\": {\"colorbar\": {\"outlinewidth\": 0, \"ticks\": \"\"}}, \"type\": \"scattergl\"}], \"scattermapbox\": [{\"marker\": {\"colorbar\": {\"outlinewidth\": 0, \"ticks\": \"\"}}, \"type\": \"scattermapbox\"}], \"scatterpolar\": [{\"marker\": {\"colorbar\": {\"outlinewidth\": 0, \"ticks\": \"\"}}, \"type\": \"scatterpolar\"}], \"scatterpolargl\": [{\"marker\": {\"colorbar\": {\"outlinewidth\": 0, \"ticks\": \"\"}}, \"type\": \"scatterpolargl\"}], \"scatterternary\": [{\"marker\": {\"colorbar\": {\"outlinewidth\": 0, \"ticks\": \"\"}}, \"type\": \"scatterternary\"}], \"surface\": [{\"colorbar\": {\"outlinewidth\": 0, \"ticks\": \"\"}, \"colorscale\": [[0.0, \"#0d0887\"], [0.1111111111111111, \"#46039f\"], [0.2222222222222222, \"#7201a8\"], [0.3333333333333333, \"#9c179e\"], [0.4444444444444444, \"#bd3786\"], [0.5555555555555556, \"#d8576b\"], [0.6666666666666666, \"#ed7953\"], [0.7777777777777778, \"#fb9f3a\"], [0.8888888888888888, \"#fdca26\"], [1.0, \"#f0f921\"]], \"type\": \"surface\"}], \"table\": [{\"cells\": {\"fill\": {\"color\": \"#EBF0F8\"}, \"line\": {\"color\": \"white\"}}, \"header\": {\"fill\": {\"color\": \"#C8D4E3\"}, \"line\": {\"color\": \"white\"}}, \"type\": \"table\"}]}, \"layout\": {\"annotationdefaults\": {\"arrowcolor\": \"#2a3f5f\", \"arrowhead\": 0, \"arrowwidth\": 1}, \"coloraxis\": {\"colorbar\": {\"outlinewidth\": 0, \"ticks\": \"\"}}, \"colorscale\": {\"diverging\": [[0, \"#8e0152\"], [0.1, \"#c51b7d\"], [0.2, \"#de77ae\"], [0.3, \"#f1b6da\"], [0.4, \"#fde0ef\"], [0.5, \"#f7f7f7\"], [0.6, \"#e6f5d0\"], [0.7, \"#b8e186\"], [0.8, \"#7fbc41\"], [0.9, \"#4d9221\"], [1, \"#276419\"]], \"sequential\": [[0.0, \"#0d0887\"], [0.1111111111111111, \"#46039f\"], [0.2222222222222222, \"#7201a8\"], [0.3333333333333333, \"#9c179e\"], [0.4444444444444444, \"#bd3786\"], [0.5555555555555556, \"#d8576b\"], [0.6666666666666666, \"#ed7953\"], [0.7777777777777778, \"#fb9f3a\"], [0.8888888888888888, \"#fdca26\"], [1.0, \"#f0f921\"]], \"sequentialminus\": [[0.0, \"#0d0887\"], [0.1111111111111111, \"#46039f\"], [0.2222222222222222, \"#7201a8\"], [0.3333333333333333, \"#9c179e\"], [0.4444444444444444, \"#bd3786\"], [0.5555555555555556, \"#d8576b\"], [0.6666666666666666, \"#ed7953\"], [0.7777777777777778, \"#fb9f3a\"], [0.8888888888888888, \"#fdca26\"], [1.0, \"#f0f921\"]]}, \"colorway\": [\"#636efa\", \"#EF553B\", \"#00cc96\", \"#ab63fa\", \"#FFA15A\", \"#19d3f3\", \"#FF6692\", \"#B6E880\", \"#FF97FF\", \"#FECB52\"], \"font\": {\"color\": \"#2a3f5f\"}, \"geo\": {\"bgcolor\": \"white\", \"lakecolor\": \"white\", \"landcolor\": \"#E5ECF6\", \"showlakes\": true, \"showland\": true, \"subunitcolor\": \"white\"}, \"hoverlabel\": {\"align\": \"left\"}, \"hovermode\": \"closest\", \"mapbox\": {\"style\": \"light\"}, \"paper_bgcolor\": \"white\", \"plot_bgcolor\": \"#E5ECF6\", \"polar\": {\"angularaxis\": {\"gridcolor\": \"white\", \"linecolor\": \"white\", \"ticks\": \"\"}, \"bgcolor\": \"#E5ECF6\", \"radialaxis\": {\"gridcolor\": \"white\", \"linecolor\": \"white\", \"ticks\": \"\"}}, \"scene\": {\"xaxis\": {\"backgroundcolor\": \"#E5ECF6\", \"gridcolor\": \"white\", \"gridwidth\": 2, \"linecolor\": \"white\", \"showbackground\": true, \"ticks\": \"\", \"zerolinecolor\": \"white\"}, \"yaxis\": {\"backgroundcolor\": \"#E5ECF6\", \"gridcolor\": \"white\", \"gridwidth\": 2, \"linecolor\": \"white\", \"showbackground\": true, \"ticks\": \"\", \"zerolinecolor\": \"white\"}, \"zaxis\": {\"backgroundcolor\": \"#E5ECF6\", \"gridcolor\": \"white\", \"gridwidth\": 2, \"linecolor\": \"white\", \"showbackground\": true, \"ticks\": \"\", \"zerolinecolor\": \"white\"}}, \"shapedefaults\": {\"line\": {\"color\": \"#2a3f5f\"}}, \"ternary\": {\"aaxis\": {\"gridcolor\": \"white\", \"linecolor\": \"white\", \"ticks\": \"\"}, \"baxis\": {\"gridcolor\": \"white\", \"linecolor\": \"white\", \"ticks\": \"\"}, \"bgcolor\": \"#E5ECF6\", \"caxis\": {\"gridcolor\": \"white\", \"linecolor\": \"white\", \"ticks\": \"\"}}, \"title\": {\"x\": 0.05}, \"xaxis\": {\"automargin\": true, \"gridcolor\": \"white\", \"linecolor\": \"white\", \"ticks\": \"\", \"title\": {\"standoff\": 15}, \"zerolinecolor\": \"white\", \"zerolinewidth\": 2}, \"yaxis\": {\"automargin\": true, \"gridcolor\": \"white\", \"linecolor\": \"white\", \"ticks\": \"\", \"title\": {\"standoff\": 15}, \"zerolinecolor\": \"white\", \"zerolinewidth\": 2}}}, \"title\": {\"font\": {\"size\": 20}}, \"xaxis\": {\"title\": {\"text\": \"\\u0414\\u0435\\u043d\\u044c \\u043f\\u043e \\u0441\\u0447\\u0435\\u0442\\u0443\"}}, \"yaxis\": {\"title\": {\"text\": \"\\u041a\\u043e\\u043b\\u0438\\u0447\\u0435\\u0441\\u0442\\u0432\\u043e \\u0442\\u0440\\u0430\\u043d\\u0437\\u0430\\u043a\\u0446\\u0438\\u0439\"}}},\n",
              "                        {\"responsive\": true}\n",
              "                    ).then(function(){\n",
              "                            \n",
              "var gd = document.getElementById('dee377e2-e832-4dc9-859f-265b1bdf39d7');\n",
              "var x = new MutationObserver(function (mutations, observer) {{\n",
              "        var display = window.getComputedStyle(gd).display;\n",
              "        if (!display || display === 'none') {{\n",
              "            console.log([gd, 'removed!']);\n",
              "            Plotly.purge(gd);\n",
              "            observer.disconnect();\n",
              "        }}\n",
              "}});\n",
              "\n",
              "// Listen for the removal of the full notebook cells\n",
              "var notebookContainer = gd.closest('#notebook-container');\n",
              "if (notebookContainer) {{\n",
              "    x.observe(notebookContainer, {childList: true});\n",
              "}}\n",
              "\n",
              "// Listen for the clearing of the current output cell\n",
              "var outputEl = gd.closest('.output');\n",
              "if (outputEl) {{\n",
              "    x.observe(outputEl, {childList: true});\n",
              "}}\n",
              "\n",
              "                        })\n",
              "                };\n",
              "                \n",
              "            </script>\n",
              "        </div>\n",
              "</body>\n",
              "</html>"
            ]
          },
          "metadata": {}
        }
      ]
    },
    {
      "cell_type": "markdown",
      "metadata": {
        "id": "9x80CmSej88E"
      },
      "source": [
        "Первый пик произошел на 30 день после начала, на последний пик произошел на 396 день (ровно через 363 дня). На 197 и 218 день с интервалом 22 дня также наблюдается два наибольших значения, если посчитать разницу в днях между 8 марта и 14 февраля - получится также 22 дня. Первому и последнему наивысших точек соостветствует 1 сенятбря.\n",
        "\n",
        "**Следовательно, начало отчета - 1 августа**"
      ]
    },
    {
      "cell_type": "markdown",
      "metadata": {
        "id": "dWeF8ibu0-gs"
      },
      "source": [
        "# Составление признаков на подготовленных данных"
      ]
    },
    {
      "cell_type": "markdown",
      "metadata": {
        "id": "5ijErsel3wSu"
      },
      "source": [
        "## Количество транзакций клиента по каждому типу транзакций"
      ]
    },
    {
      "cell_type": "markdown",
      "metadata": {
        "id": "bI85O57o0n_z"
      },
      "source": [
        "Перестроим датафрейм: с группируем данные для каждого покупателя, и посмотрим сколько покупок совершенно в каждом типе транзакций (mcc_code)"
      ]
    },
    {
      "cell_type": "code",
      "metadata": {
        "id": "zzzQcRljyx-o"
      },
      "source": [
        "X = needed_transaction.groupby('customer_id') \\\n",
        "                    .apply(lambda x: x[['mcc_code']].unstack().value_counts()) \\\n",
        "                    .unstack() \\\n",
        "                    .fillna(0)"
      ],
      "execution_count": 11,
      "outputs": []
    },
    {
      "cell_type": "markdown",
      "metadata": {
        "id": "MBHTaF2n1N2C"
      },
      "source": [
        "Сортируем данные по `customer_id`, чтоб правильно сопоставить признаки с искомым признаком (пол клиента) "
      ]
    },
    {
      "cell_type": "code",
      "metadata": {
        "id": "LgxA3l1-z--b",
        "colab": {
          "base_uri": "https://localhost:8080/",
          "height": 284
        },
        "outputId": "4b1c5ae0-a02e-4f96-fd06-d43e5e42a18e"
      },
      "source": [
        "X = X.sort_values(by='customer_id')\n",
        "Y = Y.sort_values(by='customer_id')\n",
        "X.head()"
      ],
      "execution_count": 12,
      "outputs": [
        {
          "output_type": "execute_result",
          "data": {
            "text/html": [
              "<div>\n",
              "<style scoped>\n",
              "    .dataframe tbody tr th:only-of-type {\n",
              "        vertical-align: middle;\n",
              "    }\n",
              "\n",
              "    .dataframe tbody tr th {\n",
              "        vertical-align: top;\n",
              "    }\n",
              "\n",
              "    .dataframe thead th {\n",
              "        text-align: right;\n",
              "    }\n",
              "</style>\n",
              "<table border=\"1\" class=\"dataframe\">\n",
              "  <thead>\n",
              "    <tr style=\"text-align: right;\">\n",
              "      <th></th>\n",
              "      <th>742</th>\n",
              "      <th>1711</th>\n",
              "      <th>1799</th>\n",
              "      <th>2741</th>\n",
              "      <th>3000</th>\n",
              "      <th>3351</th>\n",
              "      <th>3501</th>\n",
              "      <th>4111</th>\n",
              "      <th>4112</th>\n",
              "      <th>4121</th>\n",
              "      <th>4131</th>\n",
              "      <th>4214</th>\n",
              "      <th>4215</th>\n",
              "      <th>4411</th>\n",
              "      <th>4511</th>\n",
              "      <th>4722</th>\n",
              "      <th>4784</th>\n",
              "      <th>4789</th>\n",
              "      <th>4812</th>\n",
              "      <th>4814</th>\n",
              "      <th>4816</th>\n",
              "      <th>4829</th>\n",
              "      <th>4899</th>\n",
              "      <th>4900</th>\n",
              "      <th>5013</th>\n",
              "      <th>5039</th>\n",
              "      <th>5044</th>\n",
              "      <th>5045</th>\n",
              "      <th>5047</th>\n",
              "      <th>5065</th>\n",
              "      <th>5072</th>\n",
              "      <th>5074</th>\n",
              "      <th>5085</th>\n",
              "      <th>5094</th>\n",
              "      <th>5099</th>\n",
              "      <th>5111</th>\n",
              "      <th>5122</th>\n",
              "      <th>5131</th>\n",
              "      <th>5137</th>\n",
              "      <th>5169</th>\n",
              "      <th>...</th>\n",
              "      <th>7375</th>\n",
              "      <th>7395</th>\n",
              "      <th>7399</th>\n",
              "      <th>7512</th>\n",
              "      <th>7523</th>\n",
              "      <th>7531</th>\n",
              "      <th>7538</th>\n",
              "      <th>7542</th>\n",
              "      <th>7629</th>\n",
              "      <th>7699</th>\n",
              "      <th>7829</th>\n",
              "      <th>7832</th>\n",
              "      <th>7841</th>\n",
              "      <th>7922</th>\n",
              "      <th>7932</th>\n",
              "      <th>7933</th>\n",
              "      <th>7991</th>\n",
              "      <th>7993</th>\n",
              "      <th>7994</th>\n",
              "      <th>7995</th>\n",
              "      <th>7996</th>\n",
              "      <th>7997</th>\n",
              "      <th>7999</th>\n",
              "      <th>8011</th>\n",
              "      <th>8021</th>\n",
              "      <th>8043</th>\n",
              "      <th>8062</th>\n",
              "      <th>8071</th>\n",
              "      <th>8099</th>\n",
              "      <th>8220</th>\n",
              "      <th>8244</th>\n",
              "      <th>8299</th>\n",
              "      <th>8398</th>\n",
              "      <th>8641</th>\n",
              "      <th>8699</th>\n",
              "      <th>8999</th>\n",
              "      <th>9222</th>\n",
              "      <th>9311</th>\n",
              "      <th>9399</th>\n",
              "      <th>9402</th>\n",
              "    </tr>\n",
              "    <tr>\n",
              "      <th>customer_id</th>\n",
              "      <th></th>\n",
              "      <th></th>\n",
              "      <th></th>\n",
              "      <th></th>\n",
              "      <th></th>\n",
              "      <th></th>\n",
              "      <th></th>\n",
              "      <th></th>\n",
              "      <th></th>\n",
              "      <th></th>\n",
              "      <th></th>\n",
              "      <th></th>\n",
              "      <th></th>\n",
              "      <th></th>\n",
              "      <th></th>\n",
              "      <th></th>\n",
              "      <th></th>\n",
              "      <th></th>\n",
              "      <th></th>\n",
              "      <th></th>\n",
              "      <th></th>\n",
              "      <th></th>\n",
              "      <th></th>\n",
              "      <th></th>\n",
              "      <th></th>\n",
              "      <th></th>\n",
              "      <th></th>\n",
              "      <th></th>\n",
              "      <th></th>\n",
              "      <th></th>\n",
              "      <th></th>\n",
              "      <th></th>\n",
              "      <th></th>\n",
              "      <th></th>\n",
              "      <th></th>\n",
              "      <th></th>\n",
              "      <th></th>\n",
              "      <th></th>\n",
              "      <th></th>\n",
              "      <th></th>\n",
              "      <th></th>\n",
              "      <th></th>\n",
              "      <th></th>\n",
              "      <th></th>\n",
              "      <th></th>\n",
              "      <th></th>\n",
              "      <th></th>\n",
              "      <th></th>\n",
              "      <th></th>\n",
              "      <th></th>\n",
              "      <th></th>\n",
              "      <th></th>\n",
              "      <th></th>\n",
              "      <th></th>\n",
              "      <th></th>\n",
              "      <th></th>\n",
              "      <th></th>\n",
              "      <th></th>\n",
              "      <th></th>\n",
              "      <th></th>\n",
              "      <th></th>\n",
              "      <th></th>\n",
              "      <th></th>\n",
              "      <th></th>\n",
              "      <th></th>\n",
              "      <th></th>\n",
              "      <th></th>\n",
              "      <th></th>\n",
              "      <th></th>\n",
              "      <th></th>\n",
              "      <th></th>\n",
              "      <th></th>\n",
              "      <th></th>\n",
              "      <th></th>\n",
              "      <th></th>\n",
              "      <th></th>\n",
              "      <th></th>\n",
              "      <th></th>\n",
              "      <th></th>\n",
              "      <th></th>\n",
              "      <th></th>\n",
              "    </tr>\n",
              "  </thead>\n",
              "  <tbody>\n",
              "    <tr>\n",
              "      <th>115617</th>\n",
              "      <td>0.0</td>\n",
              "      <td>0.0</td>\n",
              "      <td>0.0</td>\n",
              "      <td>0.0</td>\n",
              "      <td>0.0</td>\n",
              "      <td>0.0</td>\n",
              "      <td>0.0</td>\n",
              "      <td>0.0</td>\n",
              "      <td>0.0</td>\n",
              "      <td>0.0</td>\n",
              "      <td>0.0</td>\n",
              "      <td>0.0</td>\n",
              "      <td>0.0</td>\n",
              "      <td>0.0</td>\n",
              "      <td>0.0</td>\n",
              "      <td>0.0</td>\n",
              "      <td>0.0</td>\n",
              "      <td>0.0</td>\n",
              "      <td>0.0</td>\n",
              "      <td>5.0</td>\n",
              "      <td>0.0</td>\n",
              "      <td>0.0</td>\n",
              "      <td>0.0</td>\n",
              "      <td>0.0</td>\n",
              "      <td>0.0</td>\n",
              "      <td>0.0</td>\n",
              "      <td>0.0</td>\n",
              "      <td>0.0</td>\n",
              "      <td>0.0</td>\n",
              "      <td>0.0</td>\n",
              "      <td>0.0</td>\n",
              "      <td>0.0</td>\n",
              "      <td>0.0</td>\n",
              "      <td>0.0</td>\n",
              "      <td>0.0</td>\n",
              "      <td>0.0</td>\n",
              "      <td>0.0</td>\n",
              "      <td>0.0</td>\n",
              "      <td>0.0</td>\n",
              "      <td>0.0</td>\n",
              "      <td>...</td>\n",
              "      <td>0.0</td>\n",
              "      <td>0.0</td>\n",
              "      <td>0.0</td>\n",
              "      <td>0.0</td>\n",
              "      <td>0.0</td>\n",
              "      <td>0.0</td>\n",
              "      <td>1.0</td>\n",
              "      <td>0.0</td>\n",
              "      <td>0.0</td>\n",
              "      <td>0.0</td>\n",
              "      <td>0.0</td>\n",
              "      <td>0.0</td>\n",
              "      <td>0.0</td>\n",
              "      <td>0.0</td>\n",
              "      <td>0.0</td>\n",
              "      <td>0.0</td>\n",
              "      <td>0.0</td>\n",
              "      <td>0.0</td>\n",
              "      <td>0.0</td>\n",
              "      <td>0.0</td>\n",
              "      <td>0.0</td>\n",
              "      <td>0.0</td>\n",
              "      <td>0.0</td>\n",
              "      <td>0.0</td>\n",
              "      <td>0.0</td>\n",
              "      <td>0.0</td>\n",
              "      <td>0.0</td>\n",
              "      <td>0.0</td>\n",
              "      <td>1.0</td>\n",
              "      <td>0.0</td>\n",
              "      <td>0.0</td>\n",
              "      <td>0.0</td>\n",
              "      <td>0.0</td>\n",
              "      <td>0.0</td>\n",
              "      <td>0.0</td>\n",
              "      <td>0.0</td>\n",
              "      <td>0.0</td>\n",
              "      <td>0.0</td>\n",
              "      <td>0.0</td>\n",
              "      <td>0.0</td>\n",
              "    </tr>\n",
              "    <tr>\n",
              "      <th>186730</th>\n",
              "      <td>0.0</td>\n",
              "      <td>0.0</td>\n",
              "      <td>0.0</td>\n",
              "      <td>0.0</td>\n",
              "      <td>0.0</td>\n",
              "      <td>0.0</td>\n",
              "      <td>0.0</td>\n",
              "      <td>0.0</td>\n",
              "      <td>0.0</td>\n",
              "      <td>0.0</td>\n",
              "      <td>0.0</td>\n",
              "      <td>0.0</td>\n",
              "      <td>0.0</td>\n",
              "      <td>0.0</td>\n",
              "      <td>0.0</td>\n",
              "      <td>0.0</td>\n",
              "      <td>0.0</td>\n",
              "      <td>0.0</td>\n",
              "      <td>0.0</td>\n",
              "      <td>42.0</td>\n",
              "      <td>0.0</td>\n",
              "      <td>22.0</td>\n",
              "      <td>0.0</td>\n",
              "      <td>0.0</td>\n",
              "      <td>0.0</td>\n",
              "      <td>0.0</td>\n",
              "      <td>0.0</td>\n",
              "      <td>0.0</td>\n",
              "      <td>0.0</td>\n",
              "      <td>0.0</td>\n",
              "      <td>0.0</td>\n",
              "      <td>0.0</td>\n",
              "      <td>0.0</td>\n",
              "      <td>0.0</td>\n",
              "      <td>0.0</td>\n",
              "      <td>0.0</td>\n",
              "      <td>0.0</td>\n",
              "      <td>0.0</td>\n",
              "      <td>0.0</td>\n",
              "      <td>0.0</td>\n",
              "      <td>...</td>\n",
              "      <td>0.0</td>\n",
              "      <td>0.0</td>\n",
              "      <td>0.0</td>\n",
              "      <td>0.0</td>\n",
              "      <td>0.0</td>\n",
              "      <td>0.0</td>\n",
              "      <td>0.0</td>\n",
              "      <td>0.0</td>\n",
              "      <td>0.0</td>\n",
              "      <td>0.0</td>\n",
              "      <td>0.0</td>\n",
              "      <td>0.0</td>\n",
              "      <td>0.0</td>\n",
              "      <td>0.0</td>\n",
              "      <td>0.0</td>\n",
              "      <td>0.0</td>\n",
              "      <td>0.0</td>\n",
              "      <td>0.0</td>\n",
              "      <td>0.0</td>\n",
              "      <td>0.0</td>\n",
              "      <td>0.0</td>\n",
              "      <td>0.0</td>\n",
              "      <td>0.0</td>\n",
              "      <td>0.0</td>\n",
              "      <td>0.0</td>\n",
              "      <td>0.0</td>\n",
              "      <td>0.0</td>\n",
              "      <td>0.0</td>\n",
              "      <td>0.0</td>\n",
              "      <td>0.0</td>\n",
              "      <td>0.0</td>\n",
              "      <td>0.0</td>\n",
              "      <td>0.0</td>\n",
              "      <td>0.0</td>\n",
              "      <td>0.0</td>\n",
              "      <td>0.0</td>\n",
              "      <td>0.0</td>\n",
              "      <td>0.0</td>\n",
              "      <td>0.0</td>\n",
              "      <td>0.0</td>\n",
              "    </tr>\n",
              "    <tr>\n",
              "      <th>302489</th>\n",
              "      <td>0.0</td>\n",
              "      <td>0.0</td>\n",
              "      <td>0.0</td>\n",
              "      <td>0.0</td>\n",
              "      <td>0.0</td>\n",
              "      <td>0.0</td>\n",
              "      <td>0.0</td>\n",
              "      <td>0.0</td>\n",
              "      <td>27.0</td>\n",
              "      <td>0.0</td>\n",
              "      <td>0.0</td>\n",
              "      <td>0.0</td>\n",
              "      <td>0.0</td>\n",
              "      <td>0.0</td>\n",
              "      <td>0.0</td>\n",
              "      <td>0.0</td>\n",
              "      <td>0.0</td>\n",
              "      <td>0.0</td>\n",
              "      <td>1.0</td>\n",
              "      <td>450.0</td>\n",
              "      <td>0.0</td>\n",
              "      <td>65.0</td>\n",
              "      <td>0.0</td>\n",
              "      <td>0.0</td>\n",
              "      <td>0.0</td>\n",
              "      <td>0.0</td>\n",
              "      <td>0.0</td>\n",
              "      <td>0.0</td>\n",
              "      <td>0.0</td>\n",
              "      <td>0.0</td>\n",
              "      <td>0.0</td>\n",
              "      <td>0.0</td>\n",
              "      <td>0.0</td>\n",
              "      <td>0.0</td>\n",
              "      <td>0.0</td>\n",
              "      <td>0.0</td>\n",
              "      <td>0.0</td>\n",
              "      <td>0.0</td>\n",
              "      <td>0.0</td>\n",
              "      <td>0.0</td>\n",
              "      <td>...</td>\n",
              "      <td>0.0</td>\n",
              "      <td>0.0</td>\n",
              "      <td>0.0</td>\n",
              "      <td>0.0</td>\n",
              "      <td>0.0</td>\n",
              "      <td>0.0</td>\n",
              "      <td>0.0</td>\n",
              "      <td>0.0</td>\n",
              "      <td>0.0</td>\n",
              "      <td>0.0</td>\n",
              "      <td>0.0</td>\n",
              "      <td>3.0</td>\n",
              "      <td>0.0</td>\n",
              "      <td>14.0</td>\n",
              "      <td>0.0</td>\n",
              "      <td>0.0</td>\n",
              "      <td>0.0</td>\n",
              "      <td>0.0</td>\n",
              "      <td>0.0</td>\n",
              "      <td>113.0</td>\n",
              "      <td>0.0</td>\n",
              "      <td>0.0</td>\n",
              "      <td>0.0</td>\n",
              "      <td>0.0</td>\n",
              "      <td>0.0</td>\n",
              "      <td>0.0</td>\n",
              "      <td>0.0</td>\n",
              "      <td>0.0</td>\n",
              "      <td>0.0</td>\n",
              "      <td>0.0</td>\n",
              "      <td>0.0</td>\n",
              "      <td>0.0</td>\n",
              "      <td>0.0</td>\n",
              "      <td>1.0</td>\n",
              "      <td>0.0</td>\n",
              "      <td>6.0</td>\n",
              "      <td>0.0</td>\n",
              "      <td>0.0</td>\n",
              "      <td>0.0</td>\n",
              "      <td>0.0</td>\n",
              "    </tr>\n",
              "    <tr>\n",
              "      <th>350821</th>\n",
              "      <td>0.0</td>\n",
              "      <td>0.0</td>\n",
              "      <td>0.0</td>\n",
              "      <td>0.0</td>\n",
              "      <td>0.0</td>\n",
              "      <td>0.0</td>\n",
              "      <td>0.0</td>\n",
              "      <td>0.0</td>\n",
              "      <td>0.0</td>\n",
              "      <td>0.0</td>\n",
              "      <td>0.0</td>\n",
              "      <td>0.0</td>\n",
              "      <td>0.0</td>\n",
              "      <td>0.0</td>\n",
              "      <td>0.0</td>\n",
              "      <td>0.0</td>\n",
              "      <td>0.0</td>\n",
              "      <td>0.0</td>\n",
              "      <td>0.0</td>\n",
              "      <td>42.0</td>\n",
              "      <td>0.0</td>\n",
              "      <td>0.0</td>\n",
              "      <td>0.0</td>\n",
              "      <td>0.0</td>\n",
              "      <td>0.0</td>\n",
              "      <td>0.0</td>\n",
              "      <td>0.0</td>\n",
              "      <td>0.0</td>\n",
              "      <td>0.0</td>\n",
              "      <td>0.0</td>\n",
              "      <td>0.0</td>\n",
              "      <td>0.0</td>\n",
              "      <td>0.0</td>\n",
              "      <td>0.0</td>\n",
              "      <td>0.0</td>\n",
              "      <td>0.0</td>\n",
              "      <td>0.0</td>\n",
              "      <td>0.0</td>\n",
              "      <td>0.0</td>\n",
              "      <td>0.0</td>\n",
              "      <td>...</td>\n",
              "      <td>0.0</td>\n",
              "      <td>0.0</td>\n",
              "      <td>0.0</td>\n",
              "      <td>0.0</td>\n",
              "      <td>0.0</td>\n",
              "      <td>0.0</td>\n",
              "      <td>0.0</td>\n",
              "      <td>0.0</td>\n",
              "      <td>0.0</td>\n",
              "      <td>0.0</td>\n",
              "      <td>0.0</td>\n",
              "      <td>0.0</td>\n",
              "      <td>0.0</td>\n",
              "      <td>0.0</td>\n",
              "      <td>0.0</td>\n",
              "      <td>0.0</td>\n",
              "      <td>0.0</td>\n",
              "      <td>0.0</td>\n",
              "      <td>0.0</td>\n",
              "      <td>0.0</td>\n",
              "      <td>0.0</td>\n",
              "      <td>0.0</td>\n",
              "      <td>0.0</td>\n",
              "      <td>0.0</td>\n",
              "      <td>0.0</td>\n",
              "      <td>0.0</td>\n",
              "      <td>0.0</td>\n",
              "      <td>0.0</td>\n",
              "      <td>0.0</td>\n",
              "      <td>0.0</td>\n",
              "      <td>0.0</td>\n",
              "      <td>0.0</td>\n",
              "      <td>0.0</td>\n",
              "      <td>0.0</td>\n",
              "      <td>0.0</td>\n",
              "      <td>0.0</td>\n",
              "      <td>0.0</td>\n",
              "      <td>0.0</td>\n",
              "      <td>0.0</td>\n",
              "      <td>0.0</td>\n",
              "    </tr>\n",
              "    <tr>\n",
              "      <th>496551</th>\n",
              "      <td>0.0</td>\n",
              "      <td>0.0</td>\n",
              "      <td>0.0</td>\n",
              "      <td>0.0</td>\n",
              "      <td>0.0</td>\n",
              "      <td>0.0</td>\n",
              "      <td>0.0</td>\n",
              "      <td>0.0</td>\n",
              "      <td>0.0</td>\n",
              "      <td>0.0</td>\n",
              "      <td>0.0</td>\n",
              "      <td>0.0</td>\n",
              "      <td>0.0</td>\n",
              "      <td>0.0</td>\n",
              "      <td>0.0</td>\n",
              "      <td>0.0</td>\n",
              "      <td>0.0</td>\n",
              "      <td>0.0</td>\n",
              "      <td>2.0</td>\n",
              "      <td>50.0</td>\n",
              "      <td>0.0</td>\n",
              "      <td>20.0</td>\n",
              "      <td>0.0</td>\n",
              "      <td>0.0</td>\n",
              "      <td>0.0</td>\n",
              "      <td>0.0</td>\n",
              "      <td>0.0</td>\n",
              "      <td>0.0</td>\n",
              "      <td>0.0</td>\n",
              "      <td>0.0</td>\n",
              "      <td>0.0</td>\n",
              "      <td>0.0</td>\n",
              "      <td>0.0</td>\n",
              "      <td>0.0</td>\n",
              "      <td>0.0</td>\n",
              "      <td>0.0</td>\n",
              "      <td>0.0</td>\n",
              "      <td>0.0</td>\n",
              "      <td>0.0</td>\n",
              "      <td>0.0</td>\n",
              "      <td>...</td>\n",
              "      <td>0.0</td>\n",
              "      <td>0.0</td>\n",
              "      <td>0.0</td>\n",
              "      <td>0.0</td>\n",
              "      <td>0.0</td>\n",
              "      <td>0.0</td>\n",
              "      <td>0.0</td>\n",
              "      <td>0.0</td>\n",
              "      <td>0.0</td>\n",
              "      <td>0.0</td>\n",
              "      <td>0.0</td>\n",
              "      <td>0.0</td>\n",
              "      <td>0.0</td>\n",
              "      <td>0.0</td>\n",
              "      <td>0.0</td>\n",
              "      <td>0.0</td>\n",
              "      <td>0.0</td>\n",
              "      <td>0.0</td>\n",
              "      <td>0.0</td>\n",
              "      <td>0.0</td>\n",
              "      <td>0.0</td>\n",
              "      <td>0.0</td>\n",
              "      <td>0.0</td>\n",
              "      <td>2.0</td>\n",
              "      <td>0.0</td>\n",
              "      <td>0.0</td>\n",
              "      <td>0.0</td>\n",
              "      <td>0.0</td>\n",
              "      <td>0.0</td>\n",
              "      <td>0.0</td>\n",
              "      <td>0.0</td>\n",
              "      <td>0.0</td>\n",
              "      <td>0.0</td>\n",
              "      <td>0.0</td>\n",
              "      <td>0.0</td>\n",
              "      <td>2.0</td>\n",
              "      <td>0.0</td>\n",
              "      <td>0.0</td>\n",
              "      <td>0.0</td>\n",
              "      <td>0.0</td>\n",
              "    </tr>\n",
              "  </tbody>\n",
              "</table>\n",
              "<p>5 rows × 179 columns</p>\n",
              "</div>"
            ],
            "text/plain": [
              "             742   1711  1799  2741  3000  ...  8999  9222  9311  9399  9402\n",
              "customer_id                                ...                              \n",
              "115617        0.0   0.0   0.0   0.0   0.0  ...   0.0   0.0   0.0   0.0   0.0\n",
              "186730        0.0   0.0   0.0   0.0   0.0  ...   0.0   0.0   0.0   0.0   0.0\n",
              "302489        0.0   0.0   0.0   0.0   0.0  ...   6.0   0.0   0.0   0.0   0.0\n",
              "350821        0.0   0.0   0.0   0.0   0.0  ...   0.0   0.0   0.0   0.0   0.0\n",
              "496551        0.0   0.0   0.0   0.0   0.0  ...   2.0   0.0   0.0   0.0   0.0\n",
              "\n",
              "[5 rows x 179 columns]"
            ]
          },
          "metadata": {},
          "execution_count": 12
        }
      ]
    },
    {
      "cell_type": "markdown",
      "metadata": {
        "id": "T00VECb89nf2"
      },
      "source": [
        "## Признаки по тратам и поступлениям"
      ]
    },
    {
      "cell_type": "markdown",
      "metadata": {
        "id": "L4T3f2OwAKCS"
      },
      "source": [
        "Разделим все транзакции на траты и поступления"
      ]
    },
    {
      "cell_type": "code",
      "metadata": {
        "id": "T03B09JX9uUv"
      },
      "source": [
        "income_transactions = needed_transaction[needed_transaction['amount'] > 0]\n",
        "expenses_transactions = needed_transaction[needed_transaction['amount'] < 0]"
      ],
      "execution_count": 13,
      "outputs": []
    },
    {
      "cell_type": "markdown",
      "metadata": {
        "id": "UDJWcwIhAa2Z"
      },
      "source": [
        "Для каждого вида по каждому клиенту определим:\n",
        "\n",
        "\n",
        "*   Максимальное значение (для трат - минимальное)\n",
        "*   Среднее значение\n",
        "*   Медианное значение\n",
        "*   Стандартное отклонение\n",
        "*   Количество транзакций\n",
        "*   Общая сумма\n",
        "\n",
        "\n",
        "\n"
      ]
    },
    {
      "cell_type": "code",
      "metadata": {
        "id": "oqG6waNg6Vys"
      },
      "source": [
        "income_df = income_transactions.groupby('customer_id').agg({'amount': ['count', 'sum', 'max', 'mean', 'median', 'std']})\n",
        "income_df.columns=['count_income','sum_income','max_income','mean_income','median_income','std_income']"
      ],
      "execution_count": 14,
      "outputs": []
    },
    {
      "cell_type": "code",
      "metadata": {
        "id": "vs5t40DnntMs"
      },
      "source": [
        "income_df = income_df[income_df['count_income'] < 300]\n",
        "income_df = income_df[income_df['median_income'] < 600000]\n",
        "income_df = income_df[income_df['sum_income'] < 75000000]\n",
        "income_df = income_df[income_df['max_income'] < 15000000]"
      ],
      "execution_count": 15,
      "outputs": []
    },
    {
      "cell_type": "code",
      "metadata": {
        "id": "MmZ2w49cTBEG"
      },
      "source": [
        "X_for_plot = income_df.merge(Y, on='customer_id', how='left')\n",
        "X_for_plot = X_for_plot.fillna(0)"
      ],
      "execution_count": 16,
      "outputs": []
    },
    {
      "cell_type": "code",
      "metadata": {
        "colab": {
          "base_uri": "https://localhost:8080/",
          "height": 726
        },
        "id": "KjcI7NKrYHkX",
        "outputId": "af77b422-6090-4de4-98cd-b8ca38bf3df0"
      },
      "source": [
        "plt.figure(figsize=(21, 12))\n",
        "\n",
        "plt.subplot(231)\n",
        "ax = sns.boxplot(x=X_for_plot['gender'], y=X_for_plot['count_income'], palette='Set2')\n",
        "plt.ylabel('Количество поступлений')\n",
        "\n",
        "plt.subplot(232)\n",
        "ax = sns.kdeplot(x='median_income', hue='gender', data=X_for_plot, palette='Set2')\n",
        "plt.ylabel('Медианное поступление')\n",
        "\n",
        "plt.subplot(233)\n",
        "ax = sns.kdeplot(x='mean_income', hue='gender', data=X_for_plot, palette='Set2')\n",
        "plt.ylabel('Среднее поступление')\n",
        "\n",
        "plt.subplot(234)\n",
        "ax = sns.kdeplot(x='sum_income', hue='gender', data=X_for_plot, palette='Set2')\n",
        "plt.ylabel('Сумма поступлений')\n",
        "\n",
        "plt.subplot(235)\n",
        "ax = sns.kdeplot(x='max_income', hue='gender', data=X_for_plot, palette='Set2')\n",
        "plt.ylabel('Максимальное поступление');\n",
        "\n",
        "plt.subplot(236)\n",
        "ax = sns.kdeplot(x='std_income', hue='gender', data=X_for_plot, palette='Set2')\n",
        "plt.ylabel('Среднее квадрат. отклонение поступлений');"
      ],
      "execution_count": 17,
      "outputs": [
        {
          "output_type": "display_data",
          "data": {
            "image/png": "[encoded data removed]",
            "text/plain": [
              "<Figure size 1512x864 with 6 Axes>"
            ]
          },
          "metadata": {
            "needs_background": "light"
          }
        }
      ]
    },
    {
      "cell_type": "markdown",
      "metadata": {
        "id": "KC1ji21sm0Jf"
      },
      "source": [
        "Точно такой же анализ проведем для трат:"
      ]
    },
    {
      "cell_type": "code",
      "metadata": {
        "id": "gfw4nW4PIWFQ"
      },
      "source": [
        "expense_df = expenses_transactions.groupby('customer_id').agg({'amount': ['count', 'sum', 'min', 'mean', 'median', 'std']})\n",
        "expense_df.columns=['count_expense', 'sum_expense','max_expense','mean_expense','median_expense','std_expense']"
      ],
      "execution_count": 18,
      "outputs": []
    },
    {
      "cell_type": "code",
      "metadata": {
        "id": "Y_F6wCxemNh3"
      },
      "source": [
        "X2_for_plot = expense_df.merge(Y, on='customer_id', how='left')\n",
        "X2_for_plot = X2_for_plot.fillna(0)"
      ],
      "execution_count": 19,
      "outputs": []
    },
    {
      "cell_type": "code",
      "metadata": {
        "colab": {
          "base_uri": "https://localhost:8080/",
          "height": 726
        },
        "id": "9GyU52ZsmKUt",
        "outputId": "c9178aed-1912-49af-dd46-943e2759ab23"
      },
      "source": [
        "plt.figure(figsize=(21, 12))\n",
        "\n",
        "plt.subplot(231)\n",
        "ax = sns.kdeplot(x='count_expense', hue='gender', data=X2_for_plot, palette='Set2')\n",
        "\n",
        "plt.subplot(232)\n",
        "ax = sns.kdeplot(x='sum_expense', hue='gender', data=X2_for_plot, palette='Set2')\n",
        "\n",
        "plt.subplot(233)\n",
        "ax = sns.kdeplot(x='mean_expense', hue='gender', data=X2_for_plot, palette='Set2')\n",
        "\n",
        "plt.subplot(234)\n",
        "ax = sns.kdeplot(x='median_expense', hue='gender', data=X2_for_plot, palette='Set2')\n",
        "\n",
        "plt.subplot(235)\n",
        "ax = sns.kdeplot(x='max_expense', hue='gender', data=X2_for_plot, palette='Set2')\n",
        "\n",
        "plt.subplot(236)\n",
        "ax = sns.boxplot(x=X2_for_plot['gender'], y=X2_for_plot['std_expense'], palette='Set2')\n",
        "plt.title(r'Среднее квадрат. отклонение поступлений');\n",
        "\n",
        "#ax = sns.kdeplot(x='std_expense', hue='gender', data=X2_for_plot, palette='Set2')"
      ],
      "execution_count": 20,
      "outputs": [
        {
          "output_type": "display_data",
          "data": {
            "image/png": "[encoded data removed]",
            "text/plain": [
              "<Figure size 1512x864 with 6 Axes>"
            ]
          },
          "metadata": {
            "needs_background": "light"
          }
        }
      ]
    },
    {
      "cell_type": "code",
      "metadata": {
        "id": "TTFxg6EqIbz4"
      },
      "source": [
        "#добавить общие?"
      ],
      "execution_count": 21,
      "outputs": []
    },
    {
      "cell_type": "markdown",
      "metadata": {
        "id": "jwn3L4FxGJFw"
      },
      "source": [
        "Присоеденим полученные признаки к датафрейму `Х`:"
      ]
    },
    {
      "cell_type": "code",
      "metadata": {
        "id": "PLdAIaMZGTD7"
      },
      "source": [
        "X = X.merge(income_df, on='customer_id', how='left')\n",
        "X = X.merge(expense_df, on='customer_id', how='left')\n",
        "X = X.fillna(0) #заполним пустые ячейки (клиенты, у которых остутсвуют доходы или расходы, или стандартное отклонение равно нулю)\n",
        "\n",
        "del Y['customer_id'] #удаляем столбец customer_id за ненадобностью"
      ],
      "execution_count": 22,
      "outputs": []
    },
    {
      "cell_type": "markdown",
      "metadata": {
        "id": "I9iDIZ973gxa"
      },
      "source": [
        "# Разбиение данных на train и test. Подбор гиперпараметров "
      ]
    },
    {
      "cell_type": "code",
      "metadata": {
        "id": "a1sos2Ajj17k"
      },
      "source": [
        "# split data into train and test sets\n",
        "seed = 7\n",
        "test_size = 0.15\n",
        "X_train, X_test, Y_train, Y_test = sklearn.model_selection.train_test_split(X, Y, test_size=test_size, random_state=seed)"
      ],
      "execution_count": 23,
      "outputs": []
    },
    {
      "cell_type": "code",
      "metadata": {
        "id": "5j-h5M56TSv-"
      },
      "source": [
        "from hyperopt import hp, fmin, tpe, Trials, STATUS_OK\n",
        "import logging as lgr\n",
        "\n",
        "dtrain = xgboost.DMatrix(X_train, Y_train)\n",
        "\n",
        "def score(params):\n",
        "  seed = int(np.random.rand()*100000)\n",
        "  params['max_depth'] = int(params['max_depth'])\n",
        "  lgr.info('seed = %i' % seed)\n",
        "  lgr. info (\"Training with params: \")\n",
        "  lgr.info(params)\n",
        "  cv_res = xgboost.cv(params, dtrain, early_stopping_rounds=100, maximize=True, \n",
        "                  num_boost_round=10000, nfold=5, seed = seed) \n",
        "  score = cv_res['test-auc-mean'].max() \n",
        "  lgr.info(\"Score = %f\" % score)\n",
        "  lgr.info('best rounds = %i' % cv_res[cv_res['test-auc-mean'] == cv_res['test-auc-mean'].max()].index[0])\n",
        "\n",
        "  return {'loss': -score, 'status': STATUS_OK}"
      ],
      "execution_count": 24,
      "outputs": []
    },
    {
      "cell_type": "markdown",
      "metadata": {
        "id": "csufKHx-d_5g"
      },
      "source": [
        "Функция оценки возвращает результат со знаком минус — это сделано специально, т.к. hyperopt минимизирует функционал, а нам надо максимизировать точность."
      ]
    },
    {
      "cell_type": "code",
      "metadata": {
        "id": "GttXkvHQWldo"
      },
      "source": [
        "space = {\n",
        "    'eta' : hp.quniform('eta', 0.001, 0.1, 0.001),\n",
        "    'max_depth' : hp.quniform('max_depth', 3, 15, 1),\n",
        "    'min_child_weight' : hp.quniform('min_child_weight', 1, 30, 1),\n",
        "    'subsample' : hp.quniform('subsample', 0.5, 1, 0.05),\n",
        "    'gamma' : hp.quniform('gamma', 0.1, 2, 0.05),\n",
        "    'alpha': hp.quniform('alpha', 0.001, 2, 0.05),\n",
        "    'colsample_bytree' : hp.quniform('colsample_bytree', 0.01, 1, 0.01),\n",
        "    'eval_metric': 'auc',\n",
        "    'objective': 'binary:logistic',\n",
        "    'booster': 'gbtree',\n",
        "    'nthread' : 11,\n",
        "    'silent' : 1\n",
        "    }\n",
        "trials = Trials() \n",
        "best = fmin(fn=score,\n",
        "            space=space,\n",
        "            algo=tpe.suggest,\n",
        "            trials=trials,\n",
        "            max_evals=40)"
      ],
      "execution_count": null,
      "outputs": []
    },
    {
      "cell_type": "code",
      "metadata": {
        "id": "NT6xLWz1VLx_"
      },
      "source": [
        "print('''best parameters:\n",
        "    alpha={}, \n",
        "    colsample_bytree={}, \n",
        "    eta={},\n",
        "    gamma={},\n",
        "    max_depth={}, \n",
        "    min_child_weight={}, \n",
        "    subsample={}\n",
        "    '''.format(\n",
        "        best['alpha'],\n",
        "        best['colsample_bytree'],\n",
        "        best['eta'],\n",
        "        best['gamma'],\n",
        "        round(best['max_depth']),\n",
        "        best['min_child_weight'],\n",
        "        best['subsample']\n",
        "    ))"
      ],
      "execution_count": null,
      "outputs": []
    },
    {
      "cell_type": "code",
      "metadata": {
        "id": "nLqoh0nGcKPP"
      },
      "source": [
        "def df_results(hp_results):\n",
        "    \"\"\"\n",
        "    Отображаем результаты hyperopt в формате DataFrame \n",
        "    :hp_results: результаты hyperop\n",
        "    :return: pandas DataFrame\n",
        "    \"\"\" \n",
        "\n",
        "    results = pd.DataFrame(hp_results)\n",
        "    results['loss'] = results['loss'] * (-1)\n",
        "    results.drop(labels=['status'], axis=1, inplace=True)\n",
        "    return results\n",
        "\n",
        "results = df_results(trials.results)\n",
        "\n",
        "fig = go.Figure(data=go.Scatter(\n",
        "    x=results.index, y=results['loss']\n",
        "))\n",
        "# Добавление подписей для графика\n",
        "fig.update_layout(\n",
        "    title_font_size=20,\n",
        "    xaxis_title=\"Steps\",\n",
        "    yaxis_title=\"Loss\",  \n",
        ")\n",
        "# Отображение графика\n",
        "fig.show()"
      ],
      "execution_count": null,
      "outputs": []
    },
    {
      "cell_type": "markdown",
      "metadata": {
        "id": "ay58t-XT1e-F"
      },
      "source": [
        "# Обучение модели"
      ]
    },
    {
      "cell_type": "markdown",
      "metadata": {
        "id": "t9g19pQjWVR3"
      },
      "source": [
        "Настроим модель XGBClassifier с подобранными параметрами:"
      ]
    },
    {
      "cell_type": "markdown",
      "metadata": {
        "id": "YRhL_XQTZHEQ"
      },
      "source": [
        "\n",
        "    alpha=0.9500000000000001, \n",
        "    colsample_bytree=0.08, \n",
        "    eta=0.022,\n",
        "    gamma=1.4500000000000002,\n",
        "    max_depth=15, \n",
        "    min_child_weight=26.0, \n",
        "    subsample=0.9500000000000001\n",
        "\n",
        "    Accuracy: 83.93%\n",
        "    ROC_AUC_score: 84.23%\n"
      ]
    },
    {
      "cell_type": "code",
      "metadata": {
        "colab": {
          "base_uri": "https://localhost:8080/"
        },
        "id": "xpE3JJoW3u74",
        "outputId": "d9e21330-6dd5-468e-9877-ef10cd9e34b9"
      },
      "source": [
        "# fit model no training data\n",
        "model = xgboost.XGBClassifier(\n",
        "      alpha=0.9500000000000001, \n",
        "      colsample_bytree=0.08, \n",
        "      eta=0.022,\n",
        "      gamma=1.4500000000000002,\n",
        "      max_depth=15, \n",
        "      min_child_weight=26.0, \n",
        "      subsample=0.9500000000000001\n",
        ")\n",
        "model.fit(X_train, Y_train.values.ravel())\n",
        "\n",
        "# make predictions for test data\n",
        "y_pred = model.predict(X_test)\n",
        "\n",
        "predictions = [round(value) for value in y_pred]\n",
        "\n",
        "# evaluate predictions\n",
        "accuracy = accuracy_score(Y_test, predictions)\n",
        "print(\"Accuracy: %.2f%%\" % (accuracy * 100.0))\n",
        "\n",
        "roc_auc = sklearn.metrics.roc_auc_score(Y_test, predictions)\n",
        "print(\"ROC_AUC_score: %.2f%%\" % (roc_auc * 100.0))"
      ],
      "execution_count": 26,
      "outputs": [
        {
          "output_type": "stream",
          "name": "stdout",
          "text": [
            "Accuracy: 83.93%\n",
            "ROC_AUC_score: 84.23%\n"
          ]
        }
      ]
    },
    {
      "cell_type": "code",
      "metadata": {
        "colab": {
          "base_uri": "https://localhost:8080/",
          "height": 445
        },
        "id": "S97ULc9s2y6_",
        "outputId": "9c40027a-c10c-4e10-8fb7-d40c91d63f84"
      },
      "source": [
        "from sklearn.model_selection import cross_val_score\n",
        "\n",
        "all_accuracies = cross_val_score(estimator=model, \n",
        "                                 X=X, \n",
        "                                 y=Y, \n",
        "                                 cv=5)\n",
        "\n",
        "x = range(len(all_accuracies))\n",
        "ax = plt.gca()\n",
        "ax.bar(x, all_accuracies)  #align='edge' - выравнивание по границе, а не по центру\n",
        "ax.set_xticks(x)\n",
        "ax.set_xticklabels(('CV1', 'CV2', 'CV3', 'CV4', 'CV5'))\n",
        "plt.show()\n",
        "\n",
        "print(\"Значения cross-validation:\", all_accuracies)\n",
        "print(\"Среднее cross-validation:\",all_accuracies.mean())"
      ],
      "execution_count": 27,
      "outputs": [
        {
          "output_type": "stream",
          "name": "stderr",
          "text": [
            "/usr/local/lib/python3.7/dist-packages/sklearn/preprocessing/_label.py:235: DataConversionWarning:\n",
            "\n",
            "A column-vector y was passed when a 1d array was expected. Please change the shape of y to (n_samples, ), for example using ravel().\n",
            "\n",
            "/usr/local/lib/python3.7/dist-packages/sklearn/preprocessing/_label.py:268: DataConversionWarning:\n",
            "\n",
            "A column-vector y was passed when a 1d array was expected. Please change the shape of y to (n_samples, ), for example using ravel().\n",
            "\n"
          ]
        },
        {
          "output_type": "display_data",
          "data": {
            "image/png": "[encoded data removed]",
            "text/plain": [
              "<Figure size 432x288 with 1 Axes>"
            ]
          },
          "metadata": {
            "needs_background": "light"
          }
        },
        {
          "output_type": "stream",
          "name": "stdout",
          "text": [
            "Значения cross-validation: [0.77181208 0.80536913 0.73154362 0.74496644 0.75838926]\n",
            "Среднее cross-validation: 0.7624161073825503\n"
          ]
        }
      ]
    },
    {
      "cell_type": "code",
      "metadata": {
        "colab": {
          "base_uri": "https://localhost:8080/",
          "height": 639
        },
        "id": "sKwr6IGLSZPc",
        "outputId": "18f2ca4e-0e71-4598-fad6-e4f9d0360242"
      },
      "source": [
        "fig, ax = plt.subplots(1,1,figsize=(10,10))\n",
        "xgboost.plot_importance(model, max_num_features=10, ax=ax)"
      ],
      "execution_count": 28,
      "outputs": [
        {
          "output_type": "execute_result",
          "data": {
            "text/plain": [
              "<matplotlib.axes._subplots.AxesSubplot at 0x7f6b791f8850>"
            ]
          },
          "metadata": {},
          "execution_count": 28
        },
        {
          "output_type": "display_data",
          "data": {
            "image/png": "[encoded data removed]",
            "text/plain": [
              "<Figure size 720x720 with 1 Axes>"
            ]
          },
          "metadata": {
            "needs_background": "light"
          }
        }
      ]
    },
    {
      "cell_type": "code",
      "metadata": {
        "colab": {
          "base_uri": "https://localhost:8080/",
          "height": 204
        },
        "id": "lW0OvgG9U4XR",
        "outputId": "b8df43f0-752d-4c2d-8a1a-f98da4a33095"
      },
      "source": [
        "tr_mcc_codes[tr_mcc_codes['mcc_code'].isin([5541, 5977, 5812, 5533, 5561, 5691])]"
      ],
      "execution_count": 29,
      "outputs": [
        {
          "output_type": "execute_result",
          "data": {
            "text/html": [
              "<div>\n",
              "<style scoped>\n",
              "    .dataframe tbody tr th:only-of-type {\n",
              "        vertical-align: middle;\n",
              "    }\n",
              "\n",
              "    .dataframe tbody tr th {\n",
              "        vertical-align: top;\n",
              "    }\n",
              "\n",
              "    .dataframe thead th {\n",
              "        text-align: right;\n",
              "    }\n",
              "</style>\n",
              "<table border=\"1\" class=\"dataframe\">\n",
              "  <thead>\n",
              "    <tr style=\"text-align: right;\">\n",
              "      <th></th>\n",
              "      <th>mcc_code</th>\n",
              "      <th>mcc_description</th>\n",
              "    </tr>\n",
              "  </thead>\n",
              "  <tbody>\n",
              "    <tr>\n",
              "      <th>64</th>\n",
              "      <td>5533</td>\n",
              "      <td>Автозапчасти и аксессуары</td>\n",
              "    </tr>\n",
              "    <tr>\n",
              "      <th>65</th>\n",
              "      <td>5541</td>\n",
              "      <td>Станции техобслуживания</td>\n",
              "    </tr>\n",
              "    <tr>\n",
              "      <th>77</th>\n",
              "      <td>5691</td>\n",
              "      <td>Магазины мужской и женской одежды</td>\n",
              "    </tr>\n",
              "    <tr>\n",
              "      <th>90</th>\n",
              "      <td>5812</td>\n",
              "      <td>Места общественного питания</td>\n",
              "    </tr>\n",
              "    <tr>\n",
              "      <th>116</th>\n",
              "      <td>5977</td>\n",
              "      <td>Магазины косметики</td>\n",
              "    </tr>\n",
              "  </tbody>\n",
              "</table>\n",
              "</div>"
            ],
            "text/plain": [
              "     mcc_code                    mcc_description\n",
              "64       5533          Автозапчасти и аксессуары\n",
              "65       5541            Станции техобслуживания\n",
              "77       5691  Магазины мужской и женской одежды\n",
              "90       5812        Места общественного питания\n",
              "116      5977                 Магазины косметики"
            ]
          },
          "metadata": {},
          "execution_count": 29
        }
      ]
    },
    {
      "cell_type": "markdown",
      "metadata": {
        "id": "3I_bX1EKs37t"
      },
      "source": [
        "Также можно рассмотреть фичи по времени:\n",
        "*   По часам\n",
        "*   Будни-выходные\n",
        "*   Дням недели"
      ]
    }
  ]
}