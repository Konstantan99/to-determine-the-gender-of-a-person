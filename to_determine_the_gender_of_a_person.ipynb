{
  "nbformat": 4,
  "nbformat_minor": 0,
  "metadata": {
    "colab": {
      "name": "to determine the gender of a person.ipynb",
      "provenance": [],
      "collapsed_sections": [
        "TTXDgyQtgINl"
      ],
      "authorship_tag": "ABX9TyMqhY6skwYQWi0ni4A+hSaT",
      "include_colab_link": true
    },
    "kernelspec": {
      "name": "python3",
      "display_name": "Python 3"
    },
    "language_info": {
      "name": "python"
    }
  },
  "cells": [
    {
      "cell_type": "markdown",
      "metadata": {
        "id": "view-in-github",
        "colab_type": "text"
      },
      "source": [
        "<a href=\"https://colab.research.google.com/github/Konstantan99/to-determine-the-gender-of-a-person/blob/new_proba/to_determine_the_gender_of_a_person.ipynb\" target=\"_parent\"><img src=\"https://colab.research.google.com/assets/colab-badge.svg\" alt=\"Open In Colab\"/></a>"
      ]
    },
    {
      "cell_type": "markdown",
      "metadata": {
        "id": "bMT8CzMIryyc"
      },
      "source": [
        "Предлагается поработать с банковскими данными и решить несколько исследовательских задач: \n",
        "определить пол клиента по его финансовым тратам.\n",
        "\n",
        "\n",
        "*   определить пол клиента по его финансовым тратам.\n",
        "\n",
        "\n",
        "Основные данные представляют из себя историю банковских транзакций, а также демографическую информацию по некоторой выборке клиентов (данные обезличены и специальным образом искажены).\n"
      ]
    },
    {
      "cell_type": "code",
      "metadata": {
        "id": "FFnBmhP_HABo"
      },
      "source": [
        "import pandas as pd\n",
        "import numpy as np\n",
        "import sklearn.model_selection\n",
        "\n",
        "import matplotlib.pyplot as plt\n",
        "import plotly.express as px\n",
        "import seaborn as sns\n",
        "\n",
        "import xgboost\n",
        "#from sklearn.model_selection import cross_validation\n",
        "from sklearn.metrics import accuracy_score\n",
        "\n",
        "from sklearn.ensemble import GradientBoostingClassifier\n",
        "\n",
        "\n",
        "import plotly.graph_objects as go"
      ],
      "execution_count": null,
      "outputs": []
    },
    {
      "cell_type": "code",
      "metadata": {
        "id": "YhNZdP3HHKoA",
        "colab": {
          "base_uri": "https://localhost:8080/"
        },
        "outputId": "1e6e016a-25b7-4dac-fc87-f71fc1ffba48"
      },
      "source": [
        "#ввод исходников с GitHub\n",
        "\n",
        "url_customers_gender_train = 'https://raw.githubusercontent.com/Konstantan99/to-determine-the-gender-of-a-person/main/customers_gender_train.csv' \n",
        "customers_gender_train = pd.read_csv(url_customers_gender_train, delimiter=',')\n",
        "\n",
        "url_tr_mcc_codes = 'https://raw.githubusercontent.com/Konstantan99/to-determine-the-gender-of-a-person/main/tr_mcc_codes.csv' \n",
        "tr_mcc_codes = pd.read_csv(url_tr_mcc_codes)\n",
        "del tr_mcc_codes['Unnamed: 2']\n",
        "del tr_mcc_codes['Unnamed: 3']\n",
        "del tr_mcc_codes['Unnamed: 4']\n",
        "del tr_mcc_codes['Unnamed: 5']\n",
        "\n",
        "url_transactions = 'https://raw.githubusercontent.com/Konstantan99/to-determine-the-gender-of-a-person/main/transactions.csv' \n",
        "transactions = pd.read_csv(url_transactions)\n",
        "\n",
        "print(\n",
        "    '''\n",
        "Размеры выборок, (объекты, признаки).\n",
        "- customers_gender_train: {}\n",
        "- tr_mcc_codes: {}\n",
        "- transactions: {}\n",
        "    '''.format(\n",
        "        customers_gender_train.shape,  \n",
        "        tr_mcc_codes.shape,\n",
        "        transactions.shape\n",
        "    )\n",
        ")"
      ],
      "execution_count": null,
      "outputs": [
        {
          "output_type": "stream",
          "text": [
            "\n",
            "Размеры выборок, (объекты, признаки).\n",
            "- customers_gender_train: (12000, 2)\n",
            "- tr_mcc_codes: (184, 2)\n",
            "- transactions: (499999, 6)\n",
            "    \n"
          ],
          "name": "stdout"
        }
      ]
    },
    {
      "cell_type": "markdown",
      "metadata": {
        "id": "TTXDgyQtgINl"
      },
      "source": [
        "# Описание таблиц"
      ]
    },
    {
      "cell_type": "markdown",
      "metadata": {
        "id": "1rZH3gzhRXJZ"
      },
      "source": [
        "**ОПИСАНИЕ ИСХОДНЫХ ДАННЫХ**\n",
        "\n",
        "\n",
        "---\n",
        "\n",
        "\n",
        "**Таблица transactions.csv**\n",
        "\n",
        "***Описание:*** Таблица содержит историю транзакций клиентов банка за один год и три месяца.\n",
        "\n",
        "***Описание полей:***\n",
        "*   customer_id — идентификатор клиента;\n",
        "*   tr_datetime — день и время совершения транзакции (дни нумеруются с начала данных);\n",
        "*   mcc_code — mcc-код транзакции;\n",
        "*   tr_type — тип транзакции;\n",
        "*   amount — сумма транзакции в условных единицах со знаком; + — начисление средств клиенту (приходная транзакция), - — списание средств (расходная транзакция);\n",
        "*   term_id — идентификатор терминала;\n",
        "\n",
        "\n",
        "---\n",
        "\n",
        "\n",
        "***Таблица customers_gender_train.csv***\n",
        "\n",
        "***Описание:*** Данная таблица содержит информацию по полу для части клиентов, для которых он известен. Для остальных клиентов пол необходимо предсказать в задаче A.\n",
        "\n",
        "Описание полей:\n",
        "*   customer_id — идентификатор клиента;\n",
        "*   gender — пол клиента; 0 — женский, 1 — мужской;\n",
        "\n",
        "\n",
        "\n",
        "---\n",
        "\n",
        "\n",
        "**Таблица tr_mcc_codes.csv**\n",
        "\n",
        "***Описание:*** Данная таблица содержит описание mcc-кодов транзакций.\n",
        "\n",
        "Формат данных\n",
        "\n",
        "mcc_code;mcc_description\n",
        "1000;словесное описание mcc-кода 1000\n",
        "2000;словесное описание mcc-кода 2000\n",
        "\n",
        "Описание полей:\n",
        "*   mcc_code – mcc-код транзакции;\n",
        "*   mcc_description — описание mcc-кода транзакции.\n",
        "\n",
        "\n",
        "---\n",
        "\n",
        "\n",
        "**Таблица tr_types.csv**\n",
        "***Описание:*** Данная таблица содержит описание типов транзакций.\n",
        "\n",
        "Описание полей:\n",
        "*   tr_type – тип транзакции;\n",
        "*   tr_description — описание типа транзакции."
      ]
    },
    {
      "cell_type": "code",
      "metadata": {
        "colab": {
          "base_uri": "https://localhost:8080/"
        },
        "id": "--5GgeEyQbB-",
        "outputId": "22aee2d7-79b6-424e-a5d0-9e69aa9b6637"
      },
      "source": [
        "customers_gender_train.head(5)"
      ],
      "execution_count": null,
      "outputs": [
        {
          "output_type": "execute_result",
          "data": {
            "text/html": [
              "<div>\n",
              "<style scoped>\n",
              "    .dataframe tbody tr th:only-of-type {\n",
              "        vertical-align: middle;\n",
              "    }\n",
              "\n",
              "    .dataframe tbody tr th {\n",
              "        vertical-align: top;\n",
              "    }\n",
              "\n",
              "    .dataframe thead th {\n",
              "        text-align: right;\n",
              "    }\n",
              "</style>\n",
              "<table border=\"1\" class=\"dataframe\">\n",
              "  <thead>\n",
              "    <tr style=\"text-align: right;\">\n",
              "      <th></th>\n",
              "      <th>customer_id</th>\n",
              "      <th>gender</th>\n",
              "    </tr>\n",
              "  </thead>\n",
              "  <tbody>\n",
              "    <tr>\n",
              "      <th>0</th>\n",
              "      <td>75562265</td>\n",
              "      <td>0</td>\n",
              "    </tr>\n",
              "    <tr>\n",
              "      <th>1</th>\n",
              "      <td>10928546</td>\n",
              "      <td>1</td>\n",
              "    </tr>\n",
              "    <tr>\n",
              "      <th>2</th>\n",
              "      <td>69348468</td>\n",
              "      <td>1</td>\n",
              "    </tr>\n",
              "    <tr>\n",
              "      <th>3</th>\n",
              "      <td>84816985</td>\n",
              "      <td>1</td>\n",
              "    </tr>\n",
              "    <tr>\n",
              "      <th>4</th>\n",
              "      <td>61009479</td>\n",
              "      <td>0</td>\n",
              "    </tr>\n",
              "  </tbody>\n",
              "</table>\n",
              "</div>"
            ],
            "text/plain": [
              "   customer_id  gender\n",
              "0     75562265       0\n",
              "1     10928546       1\n",
              "2     69348468       1\n",
              "3     84816985       1\n",
              "4     61009479       0"
            ]
          },
          "metadata": {
            "tags": []
          },
          "execution_count": 23
        }
      ]
    },
    {
      "cell_type": "code",
      "metadata": {
        "colab": {
          "base_uri": "https://localhost:8080/"
        },
        "id": "oQTiGVjmX0hz",
        "outputId": "7046d6b9-4e52-4169-fa54-55235b10aaf8"
      },
      "source": [
        "total = transactions.isnull().sum().sort_values(ascending=False) #определяем количество пропусков\n",
        "percent = (transactions.isnull().sum()/transactions.isnull().count()).sort_values(ascending=False) #определяем количество пропусков\n",
        "missing_data = pd.concat([total, percent], axis=1, keys=['Total', 'Percent'])\n",
        "missing_data"
      ],
      "execution_count": null,
      "outputs": [
        {
          "output_type": "execute_result",
          "data": {
            "text/html": [
              "<div>\n",
              "<style scoped>\n",
              "    .dataframe tbody tr th:only-of-type {\n",
              "        vertical-align: middle;\n",
              "    }\n",
              "\n",
              "    .dataframe tbody tr th {\n",
              "        vertical-align: top;\n",
              "    }\n",
              "\n",
              "    .dataframe thead th {\n",
              "        text-align: right;\n",
              "    }\n",
              "</style>\n",
              "<table border=\"1\" class=\"dataframe\">\n",
              "  <thead>\n",
              "    <tr style=\"text-align: right;\">\n",
              "      <th></th>\n",
              "      <th>Total</th>\n",
              "      <th>Percent</th>\n",
              "    </tr>\n",
              "  </thead>\n",
              "  <tbody>\n",
              "    <tr>\n",
              "      <th>term_id</th>\n",
              "      <td>211067</td>\n",
              "      <td>0.422135</td>\n",
              "    </tr>\n",
              "    <tr>\n",
              "      <th>amount</th>\n",
              "      <td>0</td>\n",
              "      <td>0.000000</td>\n",
              "    </tr>\n",
              "    <tr>\n",
              "      <th>tr_type</th>\n",
              "      <td>0</td>\n",
              "      <td>0.000000</td>\n",
              "    </tr>\n",
              "    <tr>\n",
              "      <th>mcc_code</th>\n",
              "      <td>0</td>\n",
              "      <td>0.000000</td>\n",
              "    </tr>\n",
              "    <tr>\n",
              "      <th>tr_datetime</th>\n",
              "      <td>0</td>\n",
              "      <td>0.000000</td>\n",
              "    </tr>\n",
              "    <tr>\n",
              "      <th>customer_id</th>\n",
              "      <td>0</td>\n",
              "      <td>0.000000</td>\n",
              "    </tr>\n",
              "  </tbody>\n",
              "</table>\n",
              "</div>"
            ],
            "text/plain": [
              "              Total   Percent\n",
              "term_id      211067  0.422135\n",
              "amount            0  0.000000\n",
              "tr_type           0  0.000000\n",
              "mcc_code          0  0.000000\n",
              "tr_datetime       0  0.000000\n",
              "customer_id       0  0.000000"
            ]
          },
          "metadata": {
            "tags": []
          },
          "execution_count": 25
        }
      ]
    },
    {
      "cell_type": "code",
      "metadata": {
        "colab": {
          "base_uri": "https://localhost:8080/"
        },
        "id": "aGIrkdx7VLaJ",
        "outputId": "8b4b62c3-9ee1-4c30-8938-631a5efca728"
      },
      "source": [
        "transactions.head(5)"
      ],
      "execution_count": null,
      "outputs": [
        {
          "output_type": "execute_result",
          "data": {
            "text/html": [
              "<div>\n",
              "<style scoped>\n",
              "    .dataframe tbody tr th:only-of-type {\n",
              "        vertical-align: middle;\n",
              "    }\n",
              "\n",
              "    .dataframe tbody tr th {\n",
              "        vertical-align: top;\n",
              "    }\n",
              "\n",
              "    .dataframe thead th {\n",
              "        text-align: right;\n",
              "    }\n",
              "</style>\n",
              "<table border=\"1\" class=\"dataframe\">\n",
              "  <thead>\n",
              "    <tr style=\"text-align: right;\">\n",
              "      <th></th>\n",
              "      <th>customer_id</th>\n",
              "      <th>tr_datetime</th>\n",
              "      <th>mcc_code</th>\n",
              "      <th>tr_type</th>\n",
              "      <th>amount</th>\n",
              "      <th>term_id</th>\n",
              "    </tr>\n",
              "  </thead>\n",
              "  <tbody>\n",
              "    <tr>\n",
              "      <th>0</th>\n",
              "      <td>39026145</td>\n",
              "      <td>0 10:23:26</td>\n",
              "      <td>4814</td>\n",
              "      <td>1030</td>\n",
              "      <td>-2245.92</td>\n",
              "      <td>NaN</td>\n",
              "    </tr>\n",
              "    <tr>\n",
              "      <th>1</th>\n",
              "      <td>39026145</td>\n",
              "      <td>1 10:19:29</td>\n",
              "      <td>6011</td>\n",
              "      <td>7010</td>\n",
              "      <td>56147.89</td>\n",
              "      <td>NaN</td>\n",
              "    </tr>\n",
              "    <tr>\n",
              "      <th>2</th>\n",
              "      <td>39026145</td>\n",
              "      <td>1 10:20:56</td>\n",
              "      <td>4829</td>\n",
              "      <td>2330</td>\n",
              "      <td>-56147.89</td>\n",
              "      <td>NaN</td>\n",
              "    </tr>\n",
              "    <tr>\n",
              "      <th>3</th>\n",
              "      <td>39026145</td>\n",
              "      <td>1 10:39:54</td>\n",
              "      <td>5499</td>\n",
              "      <td>1010</td>\n",
              "      <td>-1392.47</td>\n",
              "      <td>NaN</td>\n",
              "    </tr>\n",
              "    <tr>\n",
              "      <th>4</th>\n",
              "      <td>39026145</td>\n",
              "      <td>2 15:33:42</td>\n",
              "      <td>5499</td>\n",
              "      <td>1010</td>\n",
              "      <td>-920.83</td>\n",
              "      <td>NaN</td>\n",
              "    </tr>\n",
              "  </tbody>\n",
              "</table>\n",
              "</div>"
            ],
            "text/plain": [
              "   customer_id tr_datetime  mcc_code  tr_type    amount term_id\n",
              "0     39026145  0 10:23:26      4814     1030  -2245.92     NaN\n",
              "1     39026145  1 10:19:29      6011     7010  56147.89     NaN\n",
              "2     39026145  1 10:20:56      4829     2330 -56147.89     NaN\n",
              "3     39026145  1 10:39:54      5499     1010  -1392.47     NaN\n",
              "4     39026145  2 15:33:42      5499     1010   -920.83     NaN"
            ]
          },
          "metadata": {
            "tags": []
          },
          "execution_count": 24
        }
      ]
    },
    {
      "cell_type": "code",
      "metadata": {
        "colab": {
          "base_uri": "https://localhost:8080/"
        },
        "id": "edhfOSkYVQOf",
        "outputId": "b8172593-9f09-46c3-e5ab-6cdfe9f8b153"
      },
      "source": [
        "tr_mcc_codes.head(5)"
      ],
      "execution_count": null,
      "outputs": [
        {
          "output_type": "execute_result",
          "data": {
            "text/html": [
              "<div>\n",
              "<style scoped>\n",
              "    .dataframe tbody tr th:only-of-type {\n",
              "        vertical-align: middle;\n",
              "    }\n",
              "\n",
              "    .dataframe tbody tr th {\n",
              "        vertical-align: top;\n",
              "    }\n",
              "\n",
              "    .dataframe thead th {\n",
              "        text-align: right;\n",
              "    }\n",
              "</style>\n",
              "<table border=\"1\" class=\"dataframe\">\n",
              "  <thead>\n",
              "    <tr style=\"text-align: right;\">\n",
              "      <th></th>\n",
              "      <th>mcc_code</th>\n",
              "      <th>mcc_description</th>\n",
              "    </tr>\n",
              "  </thead>\n",
              "  <tbody>\n",
              "    <tr>\n",
              "      <th>0</th>\n",
              "      <td>742</td>\n",
              "      <td>Ветеринарные услуги</td>\n",
              "    </tr>\n",
              "    <tr>\n",
              "      <th>1</th>\n",
              "      <td>1711</td>\n",
              "      <td>Генеральные подрядчики по вентиляции</td>\n",
              "    </tr>\n",
              "    <tr>\n",
              "      <th>2</th>\n",
              "      <td>1731</td>\n",
              "      <td>Подрядчики по электричеству</td>\n",
              "    </tr>\n",
              "    <tr>\n",
              "      <th>3</th>\n",
              "      <td>1799</td>\n",
              "      <td>Подрядчики</td>\n",
              "    </tr>\n",
              "    <tr>\n",
              "      <th>4</th>\n",
              "      <td>2741</td>\n",
              "      <td>Разнообразные издательства/печатное дело</td>\n",
              "    </tr>\n",
              "  </tbody>\n",
              "</table>\n",
              "</div>"
            ],
            "text/plain": [
              "   mcc_code                           mcc_description\n",
              "0       742                       Ветеринарные услуги\n",
              "1      1711      Генеральные подрядчики по вентиляции\n",
              "2      1731               Подрядчики по электричеству\n",
              "3      1799                                Подрядчики\n",
              "4      2741  Разнообразные издательства/печатное дело"
            ]
          },
          "metadata": {
            "tags": []
          },
          "execution_count": 27
        }
      ]
    },
    {
      "cell_type": "markdown",
      "metadata": {
        "id": "UF3i7EFdgQfC"
      },
      "source": [
        "# Определение времени по исходным данным"
      ]
    },
    {
      "cell_type": "markdown",
      "metadata": {
        "id": "Mm_gE2mrx-WJ"
      },
      "source": [
        "Рассмотрим транзакции из флористики "
      ]
    },
    {
      "cell_type": "code",
      "metadata": {
        "colab": {
          "base_uri": "https://localhost:8080/"
        },
        "id": "3kaqz-YWxtt4",
        "outputId": "e8e35f09-be6e-423f-9f73-dd7d3957cdb9"
      },
      "source": [
        "transactions_floristic = transactions[transactions['mcc_code'] == 5992]\n",
        "time_df = transactions_floristic['tr_datetime'].str.split(' ', expand=True) #разделяем временной столбец на день и время\n",
        "time_df.columns=['number_day','time']\n",
        "transactions_floristic = pd.concat([transactions_floristic, time_df], axis=1)\n",
        "transactions_floristic['number_day'] = pd.to_numeric(transactions_floristic['number_day'])\n",
        "\n",
        "df_for_plot = pd.DataFrame(transactions_floristic['number_day'].value_counts()) #определяем сколько прошло транзакций в каждый по счету день \n",
        "df_for_plot = df_for_plot.reset_index()\n",
        "df_for_plot.columns = ['day','count_day']\n",
        "df_for_plot['percent_transactions'] = df_for_plot['count_day'] / df_for_plot['count_day'].sum() * 100 #определяем относительное количество покупок\n",
        "\n",
        "df_for_plot = df_for_plot.sort_values('day', ascending=True) #сортируем день по возрастанию"
      ],
      "execution_count": null,
      "outputs": [
        {
          "output_type": "execute_result",
          "data": {
            "text/html": [
              "<div>\n",
              "<style scoped>\n",
              "    .dataframe tbody tr th:only-of-type {\n",
              "        vertical-align: middle;\n",
              "    }\n",
              "\n",
              "    .dataframe tbody tr th {\n",
              "        vertical-align: top;\n",
              "    }\n",
              "\n",
              "    .dataframe thead th {\n",
              "        text-align: right;\n",
              "    }\n",
              "</style>\n",
              "<table border=\"1\" class=\"dataframe\">\n",
              "  <thead>\n",
              "    <tr style=\"text-align: right;\">\n",
              "      <th></th>\n",
              "      <th>day</th>\n",
              "      <th>count_day</th>\n",
              "      <th>percent_transactions</th>\n",
              "    </tr>\n",
              "  </thead>\n",
              "  <tbody>\n",
              "    <tr>\n",
              "      <th>297</th>\n",
              "      <td>0</td>\n",
              "      <td>1</td>\n",
              "      <td>0.198413</td>\n",
              "    </tr>\n",
              "    <tr>\n",
              "      <th>182</th>\n",
              "      <td>1</td>\n",
              "      <td>1</td>\n",
              "      <td>0.198413</td>\n",
              "    </tr>\n",
              "    <tr>\n",
              "      <th>181</th>\n",
              "      <td>3</td>\n",
              "      <td>1</td>\n",
              "      <td>0.198413</td>\n",
              "    </tr>\n",
              "    <tr>\n",
              "      <th>180</th>\n",
              "      <td>5</td>\n",
              "      <td>1</td>\n",
              "      <td>0.198413</td>\n",
              "    </tr>\n",
              "    <tr>\n",
              "      <th>179</th>\n",
              "      <td>7</td>\n",
              "      <td>1</td>\n",
              "      <td>0.198413</td>\n",
              "    </tr>\n",
              "  </tbody>\n",
              "</table>\n",
              "</div>"
            ],
            "text/plain": [
              "     day  count_day  percent_transactions\n",
              "297    0          1              0.198413\n",
              "182    1          1              0.198413\n",
              "181    3          1              0.198413\n",
              "180    5          1              0.198413\n",
              "179    7          1              0.198413"
            ]
          },
          "metadata": {
            "tags": []
          },
          "execution_count": 3
        }
      ]
    },
    {
      "cell_type": "code",
      "metadata": {
        "colab": {
          "base_uri": "https://localhost:8080/",
          "height": 223
        },
        "id": "CTRb_64EyfV-",
        "outputId": "ac8044ad-2525-4723-8dfa-ca7bbc938b4b"
      },
      "source": [
        "# Создание фигуры точечного графика\n",
        "fig = go.Figure(data=go.Scatter(\n",
        "    x=df_for_plot['day'], y=df_for_plot['percent_transactions']\n",
        "))\n",
        "# Добавление подписей для графика\n",
        "fig.update_layout(\n",
        "    title_font_size=20,\n",
        "    xaxis_title=\"День по счету\",\n",
        "    yaxis_title=\"Количество транзакций\",  \n",
        ")\n",
        "# Отображение графика\n",
        "fig.show()"
      ],
      "execution_count": null,
      "outputs": [
        {
          "output_type": "error",
          "ename": "NameError",
          "evalue": "ignored",
          "traceback": [
            "\u001b[0;31m---------------------------------------------------------------------------\u001b[0m",
            "\u001b[0;31mNameError\u001b[0m                                 Traceback (most recent call last)",
            "\u001b[0;32m<ipython-input-100-71bb9d4af686>\u001b[0m in \u001b[0;36m<module>\u001b[0;34m()\u001b[0m\n\u001b[1;32m      4\u001b[0m \u001b[0;34m\u001b[0m\u001b[0m\n\u001b[1;32m      5\u001b[0m fig = go.Figure(data=go.Scatter(\n\u001b[0;32m----> 6\u001b[0;31m     \u001b[0mx\u001b[0m\u001b[0;34m=\u001b[0m\u001b[0mdf_for_plot\u001b[0m\u001b[0;34m[\u001b[0m\u001b[0;34m'day'\u001b[0m\u001b[0;34m]\u001b[0m\u001b[0;34m,\u001b[0m \u001b[0my\u001b[0m\u001b[0;34m=\u001b[0m\u001b[0mdf_for_plot\u001b[0m\u001b[0;34m[\u001b[0m\u001b[0;34m'percent_transactions'\u001b[0m\u001b[0;34m]\u001b[0m\u001b[0;34m\u001b[0m\u001b[0;34m\u001b[0m\u001b[0m\n\u001b[0m\u001b[1;32m      7\u001b[0m ))\n\u001b[1;32m      8\u001b[0m \u001b[0;31m# Добавление подписей для графика\u001b[0m\u001b[0;34m\u001b[0m\u001b[0;34m\u001b[0m\u001b[0;34m\u001b[0m\u001b[0m\n",
            "\u001b[0;31mNameError\u001b[0m: name 'df_for_plot' is not defined"
          ]
        }
      ]
    },
    {
      "cell_type": "markdown",
      "metadata": {
        "id": "boAZDFUizFeg"
      },
      "source": [
        "# Подготовка данных для составления модели"
      ]
    },
    {
      "cell_type": "markdown",
      "metadata": {
        "id": "L1EeZGCpza_d"
      },
      "source": [
        "Оставляем те строки, по которым мы знаем пол из таблицы `customers_gender_train`. \n",
        "\n",
        "Для Y значений также оставляем только те, по которым мы имеем транзакции"
      ]
    },
    {
      "cell_type": "code",
      "metadata": {
        "id": "7O4BJ1SNysao"
      },
      "source": [
        "needed_transaction = transactions[transactions['customer_id'].isin(customers_gender_train['customer_id'])]\n",
        "Y = customers_gender_train[customers_gender_train['customer_id'].isin(needed_transaction['customer_id'])]"
      ],
      "execution_count": null,
      "outputs": []
    },
    {
      "cell_type": "markdown",
      "metadata": {
        "id": "-WbKJil43-zn"
      },
      "source": [
        "Разделим столбец `tr_datetime` из вида `\"1 10:20:56\"`\tна день и время"
      ]
    },
    {
      "cell_type": "code",
      "metadata": {
        "id": "6v9VKuUn2wTO"
      },
      "source": [
        "time_df = needed_transaction['tr_datetime'].str.split(' ', expand=True) #разделяем временной столбец на день и время\n",
        "time_df.columns=['number_day','time']\n",
        "needed_transaction = pd.concat([needed_transaction, time_df], axis=1)\n",
        "del needed_transaction['tr_datetime']\n",
        "\n",
        "#преобразуем данные в нужные форматы\n",
        "needed_transaction['number_day'] = pd.to_numeric(transactions_floristic['number_day'])\n",
        "needed_transaction['time'] = pd.to_datetime(needed_transaction['time'], format='%H:%M:%S')\n",
        "needed_transaction"
      ],
      "execution_count": null,
      "outputs": []
    },
    {
      "cell_type": "markdown",
      "metadata": {
        "id": "5ijErsel3wSu"
      },
      "source": [
        "## Количество транзакций клиента по каждому типу транзакций"
      ]
    },
    {
      "cell_type": "markdown",
      "metadata": {
        "id": "bI85O57o0n_z"
      },
      "source": [
        "Перестроим датафрейм: с группируем данные для каждого покупателя, и посмотрим сколько покупок совершенно в каждом типе транзакций (mcc_code)"
      ]
    },
    {
      "cell_type": "code",
      "metadata": {
        "id": "zzzQcRljyx-o"
      },
      "source": [
        "X = needed_transaction.groupby('customer_id') \\\n",
        "                    .apply(lambda x: x[['mcc_code']].unstack().value_counts()) \\\n",
        "                    .unstack() \\\n",
        "                    .fillna(0)"
      ],
      "execution_count": null,
      "outputs": []
    },
    {
      "cell_type": "markdown",
      "metadata": {
        "id": "MBHTaF2n1N2C"
      },
      "source": [
        "Сортируем данные по `customer_id`, чтоб правильно сопоставить признаки с искомым признаком (пол клиента) "
      ]
    },
    {
      "cell_type": "code",
      "metadata": {
        "id": "LgxA3l1-z--b"
      },
      "source": [
        "X = X.sort_values(by='customer_id')\n",
        "Y = Y.sort_values(by='customer_id')\n",
        "del Y['customer_id'] #удаляем столбец customer_id за ненадобностью\n",
        "\n",
        "#проверить правильно ли сортируются данные"
      ],
      "execution_count": null,
      "outputs": []
    },
    {
      "cell_type": "markdown",
      "metadata": {
        "id": "T00VECb89nf2"
      },
      "source": [
        "# Признаки по тратам и поступлениям"
      ]
    },
    {
      "cell_type": "markdown",
      "metadata": {
        "id": "L4T3f2OwAKCS"
      },
      "source": [
        "Разделим все транзакции на траты и поступления"
      ]
    },
    {
      "cell_type": "code",
      "metadata": {
        "id": "T03B09JX9uUv"
      },
      "source": [
        "income_transactions = needed_transaction[needed_transaction['amount'] > 0]\n",
        "expenses_transactions = needed_transaction[needed_transaction['amount'] < 0]"
      ],
      "execution_count": null,
      "outputs": []
    },
    {
      "cell_type": "markdown",
      "metadata": {
        "id": "UDJWcwIhAa2Z"
      },
      "source": [
        "Для каждого вида по каждому клиенту определим:\n",
        "\n",
        "\n",
        "*   Максимальное значение (для трат - минимальное)\n",
        "*   Среднее значение\n",
        "*   Медианное значение\n",
        "*   Стандартное отклонение\n",
        "*   Количество транзакций\n",
        "*   Общая сумма\n",
        "\n",
        "\n",
        "\n"
      ]
    },
    {
      "cell_type": "code",
      "metadata": {
        "id": "oqG6waNg6Vys"
      },
      "source": [
        "income_df = income_transactions.groupby('customer_id').agg({'amount': ['count', 'sum', 'max', 'mean', 'median', 'std']})\n",
        "income_df.columns=['count_income','sum_income','max_income','mean_income','median_income','std_income']"
      ],
      "execution_count": null,
      "outputs": []
    },
    {
      "cell_type": "code",
      "metadata": {
        "id": "gfw4nW4PIWFQ"
      },
      "source": [
        "expense_df = expenses_transactions.groupby('customer_id').agg({'amount': ['count', 'sum', 'min', 'mean', 'median', 'std']})\n",
        "expense_df.columns=['count_expense', 'sum_expense','max_expense','mean_expense','median_expense','std_expense']"
      ],
      "execution_count": null,
      "outputs": []
    },
    {
      "cell_type": "code",
      "metadata": {
        "id": "TTFxg6EqIbz4"
      },
      "source": [
        "#добавить общие?"
      ],
      "execution_count": null,
      "outputs": []
    },
    {
      "cell_type": "markdown",
      "metadata": {
        "id": "jwn3L4FxGJFw"
      },
      "source": [
        "Присоеденим полученные признаки к датафрейму `Х`:"
      ]
    },
    {
      "cell_type": "code",
      "metadata": {
        "id": "PLdAIaMZGTD7"
      },
      "source": [
        "X = X.merge(income_df, on='customer_id', how='left')\n",
        "X = X.merge(expense_df, on='customer_id', how='left')\n",
        "X = X.fillna(0) #заполним пустые ячейки (клиенты, у которых остутсвуют доходы или расходы, или стандартное отклонение равно нулю)"
      ],
      "execution_count": null,
      "outputs": []
    },
    {
      "cell_type": "markdown",
      "metadata": {
        "id": "I9iDIZ973gxa"
      },
      "source": [
        "# Разбиение данных на train и test. Настройка модели"
      ]
    },
    {
      "cell_type": "code",
      "metadata": {
        "id": "a1sos2Ajj17k"
      },
      "source": [
        "# split data into train and test sets\n",
        "seed = 7\n",
        "test_size = 0.15\n",
        "X_train, X_test, Y_train, Y_test = sklearn.model_selection.train_test_split(X, Y, test_size=test_size, random_state=seed)"
      ],
      "execution_count": null,
      "outputs": []
    },
    {
      "cell_type": "code",
      "metadata": {
        "id": "5j-h5M56TSv-"
      },
      "source": [
        "from hyperopt import hp, fmin, tpe, Trials, STATUS_OK\n",
        "import logging as lgr\n",
        "\n",
        "train = xgboost.DMatrix(X_train, Y_train)\n",
        "\n",
        "def score(params):\n",
        "  seed = int(np.random.rand()*100000)\n",
        "  params['max_depth'] = int(params['max_depth'])\n",
        "  lgr.info('seed = %i' % seed)\n",
        "  lgr. info (\"Training with params: \")\n",
        "  lgr.info(params)\n",
        "  cv_res = xgboost.cv(params, train, early_stopping_rounds=100, maximize=True, \n",
        "                  num_boost_round=10000, nfold=5, seed = seed) \n",
        "  score = cv_res['test-auc-mean'].max() \n",
        "  lgr.info(\"Score = %f\" % score)\n",
        "  lgr.info('best rounds = %i' % cv_res[cv_res['test-auc-mean'] == cv_res['test-auc-mean'].max()].index[0])\n",
        "  return {'loss': -score, 'status': STATUS_OK}"
      ],
      "execution_count": null,
      "outputs": []
    },
    {
      "cell_type": "markdown",
      "metadata": {
        "id": "csufKHx-d_5g"
      },
      "source": [
        "Функция оценки возвращает результат со знаком минус — это сделано специально, т.к. hyperopt минимизирует функционал, а нам надо максимизировать точность."
      ]
    },
    {
      "cell_type": "code",
      "metadata": {
        "colab": {
          "base_uri": "https://localhost:8080/"
        },
        "id": "GttXkvHQWldo",
        "outputId": "8177163d-b470-43b7-a136-f81490782d0c"
      },
      "source": [
        "space = {\n",
        "    'eta' : hp.quniform('eta', 0.001, 0.1, 0.001),\n",
        "    'max_depth' : hp.quniform('max_depth', 3, 15, 1),\n",
        "    'min_child_weight' : hp.quniform('min_child_weight', 1, 30, 1),\n",
        "    'subsample' : hp.quniform('subsample', 0.5, 1, 0.05),\n",
        "    'gamma' : hp.quniform('gamma', 0.1, 2, 0.05),\n",
        "    'alpha': hp.quniform('alpha', 0.001, 2, 0.05),\n",
        "    'colsample_bytree' : hp.quniform('colsample_bytree', 0.01, 1, 0.01),\n",
        "    'eval_metric': 'auc',\n",
        "    'objective': 'binary:logistic',\n",
        "    'booster': 'gbtree',\n",
        "    'nthread' : 11,\n",
        "    'silent' : 1\n",
        "    }\n",
        "trials = Trials() \n",
        "best = fmin(fn=score,\n",
        "            space=space,\n",
        "            algo=tpe.suggest,\n",
        "            trials=trials,\n",
        "            max_evals=500)"
      ],
      "execution_count": null,
      "outputs": [
        {
          "output_type": "stream",
          "text": [
            "100%|██████████| 5/5 [00:55<00:00, 11.15s/it, best loss: -0.8635216]\n"
          ],
          "name": "stdout"
        }
      ]
    },
    {
      "cell_type": "code",
      "metadata": {
        "colab": {
          "base_uri": "https://localhost:8080/"
        },
        "id": "NT6xLWz1VLx_",
        "outputId": "c4ac6d31-243f-4139-d41d-9b5be7e651fb"
      },
      "source": [
        "print('''best parameters:\n",
        "    alpha={}, \n",
        "    colsample_bytree={}, \n",
        "    eta={},\n",
        "    gamma={},\n",
        "    max_depth={}, \n",
        "    min_child_weight={}, \n",
        "    subsample={}\n",
        "    '''.format(\n",
        "        best['alpha'],\n",
        "        best['colsample_bytree'],\n",
        "        best['eta'],\n",
        "        best['gamma'],\n",
        "        round(best['max_depth']),\n",
        "        best['min_child_weight'],\n",
        "        best['subsample']\n",
        "    ))"
      ],
      "execution_count": null,
      "outputs": [
        {
          "output_type": "stream",
          "text": [
            "best parameters:\n",
            "    alpha=0.15000000000000002, \n",
            "    colsample_bytree=0.43, \n",
            "    eta=0.067,\n",
            "    gamma=0.4,\n",
            "    max_depth=5, \n",
            "    min_child_weight=2.0, \n",
            "    subsample=0.6000000000000001\n",
            "    \n"
          ],
          "name": "stdout"
        }
      ]
    },
    {
      "cell_type": "code",
      "metadata": {
        "colab": {
          "base_uri": "https://localhost:8080/",
          "height": 191
        },
        "id": "nLqoh0nGcKPP",
        "outputId": "0f1989cb-dc82-4d2f-9619-807fde89efca"
      },
      "source": [
        "def df_results(hp_results):\n",
        "    \"\"\"\n",
        "    Отображаем результаты hyperopt в формате DataFrame \n",
        "\n",
        "    :hp_results: результаты hyperop\n",
        "    :return: pandas DataFrame\n",
        "    \"\"\" \n",
        "\n",
        "    results = pd.DataFrame(hp_results)\n",
        "    results['loss'] = results['loss'] * (-1)\n",
        "    results.drop(labels=['status'], axis=1, inplace=True)\n",
        "    return results\n",
        "\n",
        "results = df_results(trials.results)\n",
        "results"
      ],
      "execution_count": null,
      "outputs": [
        {
          "output_type": "execute_result",
          "data": {
            "text/html": [
              "<div>\n",
              "<style scoped>\n",
              "    .dataframe tbody tr th:only-of-type {\n",
              "        vertical-align: middle;\n",
              "    }\n",
              "\n",
              "    .dataframe tbody tr th {\n",
              "        vertical-align: top;\n",
              "    }\n",
              "\n",
              "    .dataframe thead th {\n",
              "        text-align: right;\n",
              "    }\n",
              "</style>\n",
              "<table border=\"1\" class=\"dataframe\">\n",
              "  <thead>\n",
              "    <tr style=\"text-align: right;\">\n",
              "      <th></th>\n",
              "      <th>loss</th>\n",
              "    </tr>\n",
              "  </thead>\n",
              "  <tbody>\n",
              "    <tr>\n",
              "      <th>0</th>\n",
              "      <td>0.849452</td>\n",
              "    </tr>\n",
              "    <tr>\n",
              "      <th>1</th>\n",
              "      <td>0.849826</td>\n",
              "    </tr>\n",
              "    <tr>\n",
              "      <th>2</th>\n",
              "      <td>0.838235</td>\n",
              "    </tr>\n",
              "    <tr>\n",
              "      <th>3</th>\n",
              "      <td>0.863522</td>\n",
              "    </tr>\n",
              "    <tr>\n",
              "      <th>4</th>\n",
              "      <td>0.836693</td>\n",
              "    </tr>\n",
              "  </tbody>\n",
              "</table>\n",
              "</div>"
            ],
            "text/plain": [
              "       loss\n",
              "0  0.849452\n",
              "1  0.849826\n",
              "2  0.838235\n",
              "3  0.863522\n",
              "4  0.836693"
            ]
          },
          "metadata": {
            "tags": []
          },
          "execution_count": 105
        }
      ]
    },
    {
      "cell_type": "code",
      "metadata": {
        "colab": {
          "base_uri": "https://localhost:8080/",
          "height": 542
        },
        "id": "hvmdFEHnbUJR",
        "outputId": "ff224410-dc2e-4fa0-e553-01bad9fc6b9f"
      },
      "source": [
        "import plotly.graph_objects as go\n",
        "\n",
        "fig = go.Figure(data=go.Scatter(\n",
        "    x=results.index, y=results['loss']\n",
        "))\n",
        "# Добавление подписей для графика\n",
        "fig.update_layout(\n",
        "    title_font_size=20,\n",
        "    xaxis_title=\"День по счету\",\n",
        "    yaxis_title=\"Количество транзакций\",  \n",
        ")\n",
        "# Отображение графика\n",
        "fig.show()"
      ],
      "execution_count": null,
      "outputs": [
        {
          "output_type": "display_data",
          "data": {
            "text/html": [
              "<html>\n",
              "<head><meta charset=\"utf-8\" /></head>\n",
              "<body>\n",
              "    <div>\n",
              "            <script src=\"https://cdnjs.cloudflare.com/ajax/libs/mathjax/2.7.5/MathJax.js?config=TeX-AMS-MML_SVG\"></script><script type=\"text/javascript\">if (window.MathJax) {MathJax.Hub.Config({SVG: {font: \"STIX-Web\"}});}</script>\n",
              "                <script type=\"text/javascript\">window.PlotlyConfig = {MathJaxConfig: 'local'};</script>\n",
              "        <script src=\"https://cdn.plot.ly/plotly-latest.min.js\"></script>    \n",
              "            <div id=\"4bc56293-867b-446c-808e-8cee5b7c23e3\" class=\"plotly-graph-div\" style=\"height:525px; width:100%;\"></div>\n",
              "            <script type=\"text/javascript\">\n",
              "                \n",
              "                    window.PLOTLYENV=window.PLOTLYENV || {};\n",
              "                    \n",
              "                if (document.getElementById(\"4bc56293-867b-446c-808e-8cee5b7c23e3\")) {\n",
              "                    Plotly.newPlot(\n",
              "                        '4bc56293-867b-446c-808e-8cee5b7c23e3',\n",
              "                        [{\"type\": \"scatter\", \"x\": [0, 1, 2, 3, 4], \"y\": [0.8494516000000001, 0.8498262000000001, 0.8382346, 0.8635216, 0.836693]}],\n",
              "                        {\"template\": {\"data\": {\"bar\": [{\"error_x\": {\"color\": \"#2a3f5f\"}, \"error_y\": {\"color\": \"#2a3f5f\"}, \"marker\": {\"line\": {\"color\": \"#E5ECF6\", \"width\": 0.5}}, \"type\": \"bar\"}], \"barpolar\": [{\"marker\": {\"line\": {\"color\": \"#E5ECF6\", \"width\": 0.5}}, \"type\": \"barpolar\"}], \"carpet\": [{\"aaxis\": {\"endlinecolor\": \"#2a3f5f\", \"gridcolor\": \"white\", \"linecolor\": \"white\", \"minorgridcolor\": \"white\", \"startlinecolor\": \"#2a3f5f\"}, \"baxis\": {\"endlinecolor\": \"#2a3f5f\", \"gridcolor\": \"white\", \"linecolor\": \"white\", \"minorgridcolor\": \"white\", \"startlinecolor\": \"#2a3f5f\"}, \"type\": \"carpet\"}], \"choropleth\": [{\"colorbar\": {\"outlinewidth\": 0, \"ticks\": \"\"}, \"type\": \"choropleth\"}], \"contour\": [{\"colorbar\": {\"outlinewidth\": 0, \"ticks\": \"\"}, \"colorscale\": [[0.0, \"#0d0887\"], [0.1111111111111111, \"#46039f\"], [0.2222222222222222, \"#7201a8\"], [0.3333333333333333, \"#9c179e\"], [0.4444444444444444, \"#bd3786\"], [0.5555555555555556, \"#d8576b\"], [0.6666666666666666, \"#ed7953\"], [0.7777777777777778, \"#fb9f3a\"], [0.8888888888888888, \"#fdca26\"], [1.0, \"#f0f921\"]], \"type\": \"contour\"}], \"contourcarpet\": [{\"colorbar\": {\"outlinewidth\": 0, \"ticks\": \"\"}, \"type\": \"contourcarpet\"}], \"heatmap\": [{\"colorbar\": {\"outlinewidth\": 0, \"ticks\": \"\"}, \"colorscale\": [[0.0, \"#0d0887\"], [0.1111111111111111, \"#46039f\"], [0.2222222222222222, \"#7201a8\"], [0.3333333333333333, \"#9c179e\"], [0.4444444444444444, \"#bd3786\"], [0.5555555555555556, \"#d8576b\"], [0.6666666666666666, \"#ed7953\"], [0.7777777777777778, \"#fb9f3a\"], [0.8888888888888888, \"#fdca26\"], [1.0, \"#f0f921\"]], \"type\": \"heatmap\"}], \"heatmapgl\": [{\"colorbar\": {\"outlinewidth\": 0, \"ticks\": \"\"}, \"colorscale\": [[0.0, \"#0d0887\"], [0.1111111111111111, \"#46039f\"], [0.2222222222222222, \"#7201a8\"], [0.3333333333333333, \"#9c179e\"], [0.4444444444444444, \"#bd3786\"], [0.5555555555555556, \"#d8576b\"], [0.6666666666666666, \"#ed7953\"], [0.7777777777777778, \"#fb9f3a\"], [0.8888888888888888, \"#fdca26\"], [1.0, \"#f0f921\"]], \"type\": \"heatmapgl\"}], \"histogram\": [{\"marker\": {\"colorbar\": {\"outlinewidth\": 0, \"ticks\": \"\"}}, \"type\": \"histogram\"}], \"histogram2d\": [{\"colorbar\": {\"outlinewidth\": 0, \"ticks\": \"\"}, \"colorscale\": [[0.0, \"#0d0887\"], [0.1111111111111111, \"#46039f\"], [0.2222222222222222, \"#7201a8\"], [0.3333333333333333, \"#9c179e\"], [0.4444444444444444, \"#bd3786\"], [0.5555555555555556, \"#d8576b\"], [0.6666666666666666, \"#ed7953\"], [0.7777777777777778, \"#fb9f3a\"], [0.8888888888888888, \"#fdca26\"], [1.0, \"#f0f921\"]], \"type\": \"histogram2d\"}], \"histogram2dcontour\": [{\"colorbar\": {\"outlinewidth\": 0, \"ticks\": \"\"}, \"colorscale\": [[0.0, \"#0d0887\"], [0.1111111111111111, \"#46039f\"], [0.2222222222222222, \"#7201a8\"], [0.3333333333333333, \"#9c179e\"], [0.4444444444444444, \"#bd3786\"], [0.5555555555555556, \"#d8576b\"], [0.6666666666666666, \"#ed7953\"], [0.7777777777777778, \"#fb9f3a\"], [0.8888888888888888, \"#fdca26\"], [1.0, \"#f0f921\"]], \"type\": \"histogram2dcontour\"}], \"mesh3d\": [{\"colorbar\": {\"outlinewidth\": 0, \"ticks\": \"\"}, \"type\": \"mesh3d\"}], \"parcoords\": [{\"line\": {\"colorbar\": {\"outlinewidth\": 0, \"ticks\": \"\"}}, \"type\": \"parcoords\"}], \"pie\": [{\"automargin\": true, \"type\": \"pie\"}], \"scatter\": [{\"marker\": {\"colorbar\": {\"outlinewidth\": 0, \"ticks\": \"\"}}, \"type\": \"scatter\"}], \"scatter3d\": [{\"line\": {\"colorbar\": {\"outlinewidth\": 0, \"ticks\": \"\"}}, \"marker\": {\"colorbar\": {\"outlinewidth\": 0, \"ticks\": \"\"}}, \"type\": \"scatter3d\"}], \"scattercarpet\": [{\"marker\": {\"colorbar\": {\"outlinewidth\": 0, \"ticks\": \"\"}}, \"type\": \"scattercarpet\"}], \"scattergeo\": [{\"marker\": {\"colorbar\": {\"outlinewidth\": 0, \"ticks\": \"\"}}, \"type\": \"scattergeo\"}], \"scattergl\": [{\"marker\": {\"colorbar\": {\"outlinewidth\": 0, \"ticks\": \"\"}}, \"type\": \"scattergl\"}], \"scattermapbox\": [{\"marker\": {\"colorbar\": {\"outlinewidth\": 0, \"ticks\": \"\"}}, \"type\": \"scattermapbox\"}], \"scatterpolar\": [{\"marker\": {\"colorbar\": {\"outlinewidth\": 0, \"ticks\": \"\"}}, \"type\": \"scatterpolar\"}], \"scatterpolargl\": [{\"marker\": {\"colorbar\": {\"outlinewidth\": 0, \"ticks\": \"\"}}, \"type\": \"scatterpolargl\"}], \"scatterternary\": [{\"marker\": {\"colorbar\": {\"outlinewidth\": 0, \"ticks\": \"\"}}, \"type\": \"scatterternary\"}], \"surface\": [{\"colorbar\": {\"outlinewidth\": 0, \"ticks\": \"\"}, \"colorscale\": [[0.0, \"#0d0887\"], [0.1111111111111111, \"#46039f\"], [0.2222222222222222, \"#7201a8\"], [0.3333333333333333, \"#9c179e\"], [0.4444444444444444, \"#bd3786\"], [0.5555555555555556, \"#d8576b\"], [0.6666666666666666, \"#ed7953\"], [0.7777777777777778, \"#fb9f3a\"], [0.8888888888888888, \"#fdca26\"], [1.0, \"#f0f921\"]], \"type\": \"surface\"}], \"table\": [{\"cells\": {\"fill\": {\"color\": \"#EBF0F8\"}, \"line\": {\"color\": \"white\"}}, \"header\": {\"fill\": {\"color\": \"#C8D4E3\"}, \"line\": {\"color\": \"white\"}}, \"type\": \"table\"}]}, \"layout\": {\"annotationdefaults\": {\"arrowcolor\": \"#2a3f5f\", \"arrowhead\": 0, \"arrowwidth\": 1}, \"coloraxis\": {\"colorbar\": {\"outlinewidth\": 0, \"ticks\": \"\"}}, \"colorscale\": {\"diverging\": [[0, \"#8e0152\"], [0.1, \"#c51b7d\"], [0.2, \"#de77ae\"], [0.3, \"#f1b6da\"], [0.4, \"#fde0ef\"], [0.5, \"#f7f7f7\"], [0.6, \"#e6f5d0\"], [0.7, \"#b8e186\"], [0.8, \"#7fbc41\"], [0.9, \"#4d9221\"], [1, \"#276419\"]], \"sequential\": [[0.0, \"#0d0887\"], [0.1111111111111111, \"#46039f\"], [0.2222222222222222, \"#7201a8\"], [0.3333333333333333, \"#9c179e\"], [0.4444444444444444, \"#bd3786\"], [0.5555555555555556, \"#d8576b\"], [0.6666666666666666, \"#ed7953\"], [0.7777777777777778, \"#fb9f3a\"], [0.8888888888888888, \"#fdca26\"], [1.0, \"#f0f921\"]], \"sequentialminus\": [[0.0, \"#0d0887\"], [0.1111111111111111, \"#46039f\"], [0.2222222222222222, \"#7201a8\"], [0.3333333333333333, \"#9c179e\"], [0.4444444444444444, \"#bd3786\"], [0.5555555555555556, \"#d8576b\"], [0.6666666666666666, \"#ed7953\"], [0.7777777777777778, \"#fb9f3a\"], [0.8888888888888888, \"#fdca26\"], [1.0, \"#f0f921\"]]}, \"colorway\": [\"#636efa\", \"#EF553B\", \"#00cc96\", \"#ab63fa\", \"#FFA15A\", \"#19d3f3\", \"#FF6692\", \"#B6E880\", \"#FF97FF\", \"#FECB52\"], \"font\": {\"color\": \"#2a3f5f\"}, \"geo\": {\"bgcolor\": \"white\", \"lakecolor\": \"white\", \"landcolor\": \"#E5ECF6\", \"showlakes\": true, \"showland\": true, \"subunitcolor\": \"white\"}, \"hoverlabel\": {\"align\": \"left\"}, \"hovermode\": \"closest\", \"mapbox\": {\"style\": \"light\"}, \"paper_bgcolor\": \"white\", \"plot_bgcolor\": \"#E5ECF6\", \"polar\": {\"angularaxis\": {\"gridcolor\": \"white\", \"linecolor\": \"white\", \"ticks\": \"\"}, \"bgcolor\": \"#E5ECF6\", \"radialaxis\": {\"gridcolor\": \"white\", \"linecolor\": \"white\", \"ticks\": \"\"}}, \"scene\": {\"xaxis\": {\"backgroundcolor\": \"#E5ECF6\", \"gridcolor\": \"white\", \"gridwidth\": 2, \"linecolor\": \"white\", \"showbackground\": true, \"ticks\": \"\", \"zerolinecolor\": \"white\"}, \"yaxis\": {\"backgroundcolor\": \"#E5ECF6\", \"gridcolor\": \"white\", \"gridwidth\": 2, \"linecolor\": \"white\", \"showbackground\": true, \"ticks\": \"\", \"zerolinecolor\": \"white\"}, \"zaxis\": {\"backgroundcolor\": \"#E5ECF6\", \"gridcolor\": \"white\", \"gridwidth\": 2, \"linecolor\": \"white\", \"showbackground\": true, \"ticks\": \"\", \"zerolinecolor\": \"white\"}}, \"shapedefaults\": {\"line\": {\"color\": \"#2a3f5f\"}}, \"ternary\": {\"aaxis\": {\"gridcolor\": \"white\", \"linecolor\": \"white\", \"ticks\": \"\"}, \"baxis\": {\"gridcolor\": \"white\", \"linecolor\": \"white\", \"ticks\": \"\"}, \"bgcolor\": \"#E5ECF6\", \"caxis\": {\"gridcolor\": \"white\", \"linecolor\": \"white\", \"ticks\": \"\"}}, \"title\": {\"x\": 0.05}, \"xaxis\": {\"automargin\": true, \"gridcolor\": \"white\", \"linecolor\": \"white\", \"ticks\": \"\", \"title\": {\"standoff\": 15}, \"zerolinecolor\": \"white\", \"zerolinewidth\": 2}, \"yaxis\": {\"automargin\": true, \"gridcolor\": \"white\", \"linecolor\": \"white\", \"ticks\": \"\", \"title\": {\"standoff\": 15}, \"zerolinecolor\": \"white\", \"zerolinewidth\": 2}}}, \"title\": {\"font\": {\"size\": 20}}, \"xaxis\": {\"title\": {\"text\": \"\\u0414\\u0435\\u043d\\u044c \\u043f\\u043e \\u0441\\u0447\\u0435\\u0442\\u0443\"}}, \"yaxis\": {\"title\": {\"text\": \"\\u041a\\u043e\\u043b\\u0438\\u0447\\u0435\\u0441\\u0442\\u0432\\u043e \\u0442\\u0440\\u0430\\u043d\\u0437\\u0430\\u043a\\u0446\\u0438\\u0439\"}}},\n",
              "                        {\"responsive\": true}\n",
              "                    ).then(function(){\n",
              "                            \n",
              "var gd = document.getElementById('4bc56293-867b-446c-808e-8cee5b7c23e3');\n",
              "var x = new MutationObserver(function (mutations, observer) {{\n",
              "        var display = window.getComputedStyle(gd).display;\n",
              "        if (!display || display === 'none') {{\n",
              "            console.log([gd, 'removed!']);\n",
              "            Plotly.purge(gd);\n",
              "            observer.disconnect();\n",
              "        }}\n",
              "}});\n",
              "\n",
              "// Listen for the removal of the full notebook cells\n",
              "var notebookContainer = gd.closest('#notebook-container');\n",
              "if (notebookContainer) {{\n",
              "    x.observe(notebookContainer, {childList: true});\n",
              "}}\n",
              "\n",
              "// Listen for the clearing of the current output cell\n",
              "var outputEl = gd.closest('.output');\n",
              "if (outputEl) {{\n",
              "    x.observe(outputEl, {childList: true});\n",
              "}}\n",
              "\n",
              "                        })\n",
              "                };\n",
              "                \n",
              "            </script>\n",
              "        </div>\n",
              "</body>\n",
              "</html>"
            ]
          },
          "metadata": {
            "tags": []
          }
        }
      ]
    },
    {
      "cell_type": "markdown",
      "metadata": {
        "id": "t9g19pQjWVR3"
      },
      "source": [
        "Настроим модель XGBClassifier с подобранными параметрами:"
      ]
    },
    {
      "cell_type": "markdown",
      "metadata": {
        "id": "YRhL_XQTZHEQ"
      },
      "source": [
        "\n",
        "    alpha=0.9500000000000001, \n",
        "    colsample_bytree=0.08, \n",
        "    eta=0.022,\n",
        "    gamma=1.4500000000000002,\n",
        "    max_depth=15, \n",
        "    min_child_weight=26.0, \n",
        "    subsample=0.9500000000000001\n"
      ]
    },
    {
      "cell_type": "code",
      "metadata": {
        "colab": {
          "base_uri": "https://localhost:8080/"
        },
        "id": "xpE3JJoW3u74",
        "outputId": "ffc53d49-d71c-4cb4-c0b9-08f244ab97fa"
      },
      "source": [
        "# fit model no training data\n",
        "model = xgboost.XGBClassifier(\n",
        "    alpha=0.15000000000000002, \n",
        "    colsample_bytree=0.43, \n",
        "    eta=0.067,\n",
        "    gamma=0.4,\n",
        "    max_depth=5, \n",
        "    min_child_weight=2.0, \n",
        "    subsample=0.6000000000000001\n",
        ")\n",
        "model.fit(X_train, Y_train)\n",
        "\n",
        "# make predictions for test data\n",
        "y_pred = model.predict(X_test)\n",
        "print(y_pred)\n",
        "print()\n",
        "predictions = [round(value) for value in y_pred]\n",
        "# evaluate predictions\n",
        "accuracy = accuracy_score(Y_test, predictions)\n",
        "print(\"Accuracy: %.2f%%\" % (accuracy * 100.0))"
      ],
      "execution_count": null,
      "outputs": [
        {
          "output_type": "stream",
          "text": [
            "/usr/local/lib/python3.7/dist-packages/sklearn/preprocessing/_label.py:235: DataConversionWarning:\n",
            "\n",
            "A column-vector y was passed when a 1d array was expected. Please change the shape of y to (n_samples, ), for example using ravel().\n",
            "\n",
            "/usr/local/lib/python3.7/dist-packages/sklearn/preprocessing/_label.py:268: DataConversionWarning:\n",
            "\n",
            "A column-vector y was passed when a 1d array was expected. Please change the shape of y to (n_samples, ), for example using ravel().\n",
            "\n"
          ],
          "name": "stderr"
        },
        {
          "output_type": "stream",
          "text": [
            "[0 0 0 0 1 0 1 0 1 0 0 0 0 0 0 1 1 1 0 0 1 1 0 1 0 0 0 0 1 1 1 0 1 0 1 0 0\n",
            " 0 1 0 0 0 1 1 1 1 0 0 1 0 1 0 0 1 0 0 0 1 1 1 1 1 0 0 1 1 1 1 1 0 0 1 0 0\n",
            " 1 0 0 1 1 1 1 0 0 1 0 1 0 1 1 1 0 1 0 1 1 1 1 1 0 0 1 0 0 1 1 0 1 1 1 0 1\n",
            " 1]\n",
            "\n",
            "Accuracy: 83.04%\n"
          ],
          "name": "stdout"
        }
      ]
    }
  ]
}